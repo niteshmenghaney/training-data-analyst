{
 "cells": [
  {
   "cell_type": "markdown",
   "metadata": {},
   "source": [
    "# Training a model with `traffic_last_5min` feature\n",
    "\n",
    "\n",
    "## Introduction\n",
    "\n",
    "In this notebook, we'll train a taxifare prediction model but this time with an additional feature of `traffic_last_5min`."
   ]
  },
  {
   "cell_type": "code",
   "execution_count": 1,
   "metadata": {
    "colab": {},
    "colab_type": "code",
    "id": "Nny3m465gKkY"
   },
   "outputs": [],
   "source": [
    "!sudo chown -R jupyter:jupyter /home/jupyter/training-data-analyst"
   ]
  },
  {
   "cell_type": "code",
   "execution_count": 2,
   "metadata": {},
   "outputs": [
    {
     "name": "stdout",
     "output_type": "stream",
     "text": [
      "2.3.0\n"
     ]
    }
   ],
   "source": [
    "import datetime\n",
    "import os\n",
    "import shutil\n",
    "\n",
    "import pandas as pd\n",
    "import tensorflow as tf\n",
    "\n",
    "from matplotlib import pyplot as plt\n",
    "from tensorflow import keras\n",
    "\n",
    "from tensorflow.keras.models import Sequential\n",
    "from tensorflow.keras.layers import Dense, DenseFeatures\n",
    "from tensorflow.keras.callbacks import TensorBoard\n",
    "\n",
    "print(tf.__version__)\n",
    "%matplotlib inline"
   ]
  },
  {
   "cell_type": "code",
   "execution_count": 3,
   "metadata": {},
   "outputs": [],
   "source": [
    "PROJECT = 'qwiklabs-gcp-04-569268d5f324' # REPLACE WITH YOUR PROJECT ID\n",
    "BUCKET = 'qwiklabs-gcp-04-569268d5f324' # REPLACE WITH YOUR BUCKET NAME\n",
    "REGION = 'us-central1' # REPLACE WITH YOUR BUCKET REGION e.g. us-central1"
   ]
  },
  {
   "cell_type": "code",
   "execution_count": 4,
   "metadata": {},
   "outputs": [],
   "source": [
    "# For Bash Code\n",
    "os.environ['PROJECT'] = PROJECT\n",
    "os.environ['BUCKET'] = BUCKET\n",
    "os.environ['REGION'] = REGION"
   ]
  },
  {
   "cell_type": "code",
   "execution_count": 5,
   "metadata": {},
   "outputs": [
    {
     "name": "stderr",
     "output_type": "stream",
     "text": [
      "Updated property [core/project].\n",
      "Updated property [compute/region].\n"
     ]
    }
   ],
   "source": [
    "%%bash\n",
    "gcloud config set project $PROJECT\n",
    "gcloud config set compute/region $REGION"
   ]
  },
  {
   "cell_type": "markdown",
   "metadata": {},
   "source": [
    "## Load raw data"
   ]
  },
  {
   "cell_type": "code",
   "execution_count": 6,
   "metadata": {},
   "outputs": [
    {
     "name": "stdout",
     "output_type": "stream",
     "text": [
      "-rw-r--r-- 1 jupyter jupyter 2186310 May 24 03:53 ../data/taxi-traffic-test.csv\n",
      "-rw-r--r-- 1 jupyter jupyter 9713118 May 24 03:53 ../data/taxi-traffic-train.csv\n",
      "-rw-r--r-- 1 jupyter jupyter 2036826 May 24 03:53 ../data/taxi-traffic-valid.csv\n"
     ]
    }
   ],
   "source": [
    "!ls -l ../data/taxi-traffic*"
   ]
  },
  {
   "cell_type": "code",
   "execution_count": 7,
   "metadata": {},
   "outputs": [
    {
     "name": "stdout",
     "output_type": "stream",
     "text": [
      "==> ../data/taxi-traffic-test.csv <==\n",
      "15.7,6,12,-73.990072,40.758199,-73.974686,40.742004,2089\n",
      "6.1,7,2,-73.95647,40.771226,-73.971845,40.750089,1738\n",
      "4.1,6,18,-73.987871,40.759855,-73.996375,40.763728,2971\n",
      "5.7,2,18,-73.974177,40.761154,-73.980953,40.769357,2320\n",
      "7.4,4,23,-73.924908,40.741879,-73.897524,40.747867,1491\n",
      "20.5,1,15,-73.957528,40.766847,-73.870813,40.774044,1794\n",
      "6.5,6,9,-73.996553,40.725558,-73.992503,40.737248,2341\n",
      "4.1,4,11,-73.98353,40.746821000000004,-73.976831,40.751082000000004,2329\n",
      "10.5,3,18,-73.863998,40.770439,-73.91671099999999,40.773011,2318\n",
      "10.1,6,1,-73.979685,40.727247999999996,-73.952508,40.772492,1455\n",
      "\n",
      "==> ../data/taxi-traffic-train.csv <==\n",
      "6.1,2,0,-73.98689499999999,40.729723,-74.00631,40.739407,1129\n",
      "9.7,7,0,-73.94578299999999,40.777807,-73.97539,40.757712,2876\n",
      "5.3,6,0,-74.00644,40.739349,-73.999379,40.731804,3950\n",
      "7.3,5,0,-73.96611800000001,40.753983000000005,-73.945605,40.782802000000004,1334\n",
      "6.5,7,0,-73.974153,40.762767,-73.989152,40.742727,2623\n",
      "22.9,1,0,-73.977188,40.774063,-73.962647,40.654768,2833\n",
      "22.9,2,0,-74.00188,40.745946999999994,-73.968497,40.639375,2002\n",
      "6.1,3,0,-73.994051,40.751077,-73.977333,40.778875,661\n",
      "5.3,5,0,-73.980898,40.744515,-73.973383,40.753496999999996,1938\n",
      "6.5,7,0,-74.00540600000001,40.708533,-74.005498,40.725617,2781\n",
      "\n",
      "==> ../data/taxi-traffic-valid.csv <==\n",
      "7.7,2,11,-73.97463,40.742118,-73.98544,40.760585999999996,1059\n",
      "30.1,7,1,-73.956921,40.777588,-73.965109,40.673271,2225\n",
      "7.7,6,13,-73.98073199999999,40.742109,-73.96415400000001,40.764891999999996,1994\n",
      "24.67,4,4,-73.953387,40.822733,-73.878697,40.755373,321\n",
      "7.7,2,1,-73.982304,40.723572,-73.972778,40.74928,1115\n",
      "8.1,5,18,-73.98474300000001,40.749171999999994,-74.00232,40.72825,2697\n",
      "6.1,4,1,-73.983588,40.72224,-73.997302,40.720786,868\n",
      "19.07,3,1,-73.94446500000001,40.807284,-73.876339,40.763073999999996,711\n",
      "12.5,4,10,-73.98696899999999,40.722343,-74.01621,40.715067,1990\n",
      "5.7,7,18,-74.007972,40.738759,-73.991973,40.73704,2048\n"
     ]
    }
   ],
   "source": [
    "!head ../data/taxi-traffic*"
   ]
  },
  {
   "cell_type": "markdown",
   "metadata": {},
   "source": [
    "## Use tf.data to read the CSV files\n",
    "\n",
    "These functions for reading data from the csv files are similar to what we used in the Introduction to Tensorflow module. Note that here we have an addtional feature `traffic_last_5min`."
   ]
  },
  {
   "cell_type": "code",
   "execution_count": 29,
   "metadata": {},
   "outputs": [],
   "source": [
    "CSV_COLUMNS = [\n",
    "    'fare_amount',\n",
    "    'dayofweek',\n",
    "    'hourofday',\n",
    "    'pickup_longitude',\n",
    "    'pickup_latitude',\n",
    "    'dropoff_longitude',\n",
    "    'dropoff_latitude',\n",
    "    'traffic_last_5min'\n",
    "]\n",
    "LABEL_COLUMN = 'fare_amount'\n",
    "DEFAULTS = [[0.0], [0.0], [0.0], [0.0], [0.0], [0.0], [0.0], [0.0]]\n",
    "\n",
    "\n",
    "def features_and_labels(row_data):\n",
    "    label = row_data.pop(LABEL_COLUMN)\n",
    "    features = row_data\n",
    "\n",
    "    return features, label\n",
    "\n",
    "\n",
    "def create_dataset(pattern, batch_size=1, mode=tf.estimator.ModeKeys.EVAL):\n",
    "    dataset = tf.data.experimental.make_csv_dataset(\n",
    "        pattern, batch_size, CSV_COLUMNS, DEFAULTS)\n",
    "\n",
    "    dataset = dataset.map(features_and_labels)\n",
    "\n",
    "    if mode == tf.estimator.ModeKeys.TRAIN:\n",
    "        dataset = dataset.shuffle(buffer_size=1000).repeat()\n",
    "\n",
    "    # take advantage of multi-threading; 1=AUTOTUNE\n",
    "    dataset = dataset.prefetch(1)\n",
    "    return dataset"
   ]
  },
  {
   "cell_type": "code",
   "execution_count": 30,
   "metadata": {},
   "outputs": [],
   "source": [
    "INPUT_COLS = [\n",
    "    'dayofweek',\n",
    "    'hourofday',\n",
    "    'pickup_longitude',\n",
    "    'pickup_latitude',\n",
    "    'dropoff_longitude',\n",
    "    'dropoff_latitude',\n",
    "    'traffic_last_5min'\n",
    "]\n",
    "\n",
    "# Create input layer of feature columns\n",
    "feature_columns = {\n",
    "    colname: tf.feature_column.numeric_column(colname)\n",
    "    for colname in INPUT_COLS\n",
    "    }"
   ]
  },
  {
   "cell_type": "markdown",
   "metadata": {},
   "source": [
    "## Build a simple keras DNN model"
   ]
  },
  {
   "cell_type": "code",
   "execution_count": 31,
   "metadata": {},
   "outputs": [],
   "source": [
    "# Build a keras DNN model using Sequential API\n",
    "def build_model(dnn_hidden_units):\n",
    "    model = Sequential(DenseFeatures(feature_columns=feature_columns.values()))\n",
    "    \n",
    "    for num_nodes in dnn_hidden_units:\n",
    "        model.add(Dense(units=num_nodes, activation=\"relu\"))\n",
    "    \n",
    "    model.add(Dense(units=1, activation=\"linear\"))    \n",
    "    \n",
    "    # Create a custom evalution metric\n",
    "    def rmse(y_true, y_pred):\n",
    "        return tf.sqrt(tf.reduce_mean(tf.square(y_pred - y_true)))\n",
    "\n",
    "    # Compile the keras model\n",
    "    model.compile(optimizer=\"adam\", loss=\"mse\", metrics=[rmse, \"mse\"])\n",
    "    \n",
    "    return model"
   ]
  },
  {
   "cell_type": "markdown",
   "metadata": {},
   "source": [
    "Next, we can call the `build_model` to create the model. Here we'll have two hidden layers before our final output layer. And we'll train with the same parameters we used before."
   ]
  },
  {
   "cell_type": "code",
   "execution_count": 32,
   "metadata": {},
   "outputs": [],
   "source": [
    "HIDDEN_UNITS = [32,16,8]\n",
    "\n",
    "model = build_model(dnn_hidden_units=HIDDEN_UNITS)"
   ]
  },
  {
   "cell_type": "code",
   "execution_count": 33,
   "metadata": {},
   "outputs": [],
   "source": [
    "BATCH_SIZE = 1000\n",
    "NUM_TRAIN_EXAMPLES = 10000 * 6  # training dataset will repeat, wrap around\n",
    "NUM_EVALS = 60  # how many times to evaluate\n",
    "NUM_EVAL_EXAMPLES = 10000  # enough to get a reasonable sample\n",
    "\n",
    "trainds = create_dataset(\n",
    "    pattern='../data/taxi-traffic-train*',\n",
    "    batch_size=BATCH_SIZE,\n",
    "    mode=tf.estimator.ModeKeys.TRAIN)\n",
    "\n",
    "evalds = create_dataset(\n",
    "    pattern='../data/taxi-traffic-valid*',\n",
    "    batch_size=BATCH_SIZE,\n",
    "    mode=tf.estimator.ModeKeys.EVAL).take(NUM_EVAL_EXAMPLES//1000)"
   ]
  },
  {
   "cell_type": "code",
   "execution_count": 34,
   "metadata": {},
   "outputs": [
    {
     "name": "stdout",
     "output_type": "stream",
     "text": [
      "Epoch 1/60\n",
      "WARNING:tensorflow:Layers in a Sequential model should only have a single input tensor, but we receive a <class 'collections.OrderedDict'> input: OrderedDict([('dayofweek', <tf.Tensor 'ExpandDims:0' shape=(1000, 1) dtype=float32>), ('hourofday', <tf.Tensor 'ExpandDims_3:0' shape=(1000, 1) dtype=float32>), ('pickup_longitude', <tf.Tensor 'ExpandDims_5:0' shape=(1000, 1) dtype=float32>), ('pickup_latitude', <tf.Tensor 'ExpandDims_4:0' shape=(1000, 1) dtype=float32>), ('dropoff_longitude', <tf.Tensor 'ExpandDims_2:0' shape=(1000, 1) dtype=float32>), ('dropoff_latitude', <tf.Tensor 'ExpandDims_1:0' shape=(1000, 1) dtype=float32>), ('traffic_last_5min', <tf.Tensor 'ExpandDims_6:0' shape=(1000, 1) dtype=float32>)])\n",
      "Consider rewriting this model with the Functional API.\n",
      "WARNING:tensorflow:Layers in a Sequential model should only have a single input tensor, but we receive a <class 'collections.OrderedDict'> input: OrderedDict([('dayofweek', <tf.Tensor 'ExpandDims:0' shape=(1000, 1) dtype=float32>), ('hourofday', <tf.Tensor 'ExpandDims_3:0' shape=(1000, 1) dtype=float32>), ('pickup_longitude', <tf.Tensor 'ExpandDims_5:0' shape=(1000, 1) dtype=float32>), ('pickup_latitude', <tf.Tensor 'ExpandDims_4:0' shape=(1000, 1) dtype=float32>), ('dropoff_longitude', <tf.Tensor 'ExpandDims_2:0' shape=(1000, 1) dtype=float32>), ('dropoff_latitude', <tf.Tensor 'ExpandDims_1:0' shape=(1000, 1) dtype=float32>), ('traffic_last_5min', <tf.Tensor 'ExpandDims_6:0' shape=(1000, 1) dtype=float32>)])\n",
      "Consider rewriting this model with the Functional API.\n",
      "1/1 [==============================] - ETA: 0s - loss: 25922.2871 - rmse: 161.0040 - mse: 25922.2871WARNING:tensorflow:Layers in a Sequential model should only have a single input tensor, but we receive a <class 'collections.OrderedDict'> input: OrderedDict([('dayofweek', <tf.Tensor 'ExpandDims:0' shape=(1000, 1) dtype=float32>), ('hourofday', <tf.Tensor 'ExpandDims_3:0' shape=(1000, 1) dtype=float32>), ('pickup_longitude', <tf.Tensor 'ExpandDims_5:0' shape=(1000, 1) dtype=float32>), ('pickup_latitude', <tf.Tensor 'ExpandDims_4:0' shape=(1000, 1) dtype=float32>), ('dropoff_longitude', <tf.Tensor 'ExpandDims_2:0' shape=(1000, 1) dtype=float32>), ('dropoff_latitude', <tf.Tensor 'ExpandDims_1:0' shape=(1000, 1) dtype=float32>), ('traffic_last_5min', <tf.Tensor 'ExpandDims_6:0' shape=(1000, 1) dtype=float32>)])\n",
      "Consider rewriting this model with the Functional API.\n",
      "1/1 [==============================] - 0s 470ms/step - loss: 25922.2871 - rmse: 161.0040 - mse: 25922.2871 - val_loss: 22137.4199 - val_rmse: 148.7777 - val_mse: 22137.4199\n",
      "Epoch 2/60\n",
      "1/1 [==============================] - 0s 325ms/step - loss: 36157.6211 - rmse: 190.1516 - mse: 36157.6211 - val_loss: 18864.2090 - val_rmse: 137.3364 - val_mse: 18864.2090\n",
      "Epoch 3/60\n",
      "1/1 [==============================] - 0s 309ms/step - loss: 30762.7246 - rmse: 175.3931 - mse: 30762.7246 - val_loss: 15798.7236 - val_rmse: 125.6725 - val_mse: 15798.7236\n",
      "Epoch 4/60\n",
      "1/1 [==============================] - 0s 331ms/step - loss: 15578.0801 - rmse: 124.8122 - mse: 15578.0801 - val_loss: 13427.8945 - val_rmse: 115.8698 - val_mse: 13427.8945\n",
      "Epoch 5/60\n",
      "1/1 [==============================] - 0s 337ms/step - loss: 13355.9941 - rmse: 115.5681 - mse: 13355.9941 - val_loss: 11579.6943 - val_rmse: 107.5956 - val_mse: 11579.6943\n",
      "Epoch 6/60\n",
      "1/1 [==============================] - 0s 321ms/step - loss: 12328.1260 - rmse: 111.0321 - mse: 12328.1260 - val_loss: 9976.3779 - val_rmse: 99.8698 - val_mse: 9976.3779\n",
      "Epoch 7/60\n",
      "1/1 [==============================] - 0s 348ms/step - loss: 14625.4756 - rmse: 120.9358 - mse: 14625.4756 - val_loss: 8631.0781 - val_rmse: 92.8967 - val_mse: 8631.0781\n",
      "Epoch 8/60\n",
      "1/1 [==============================] - 0s 357ms/step - loss: 7317.0391 - rmse: 85.5397 - mse: 7317.0391 - val_loss: 7309.8574 - val_rmse: 85.4860 - val_mse: 7309.8574\n",
      "Epoch 9/60\n",
      "1/1 [==============================] - 0s 358ms/step - loss: 10762.7842 - rmse: 103.7438 - mse: 10762.7842 - val_loss: 6081.0996 - val_rmse: 77.9737 - val_mse: 6081.0996\n",
      "Epoch 10/60\n",
      "1/1 [==============================] - 0s 339ms/step - loss: 6656.5161 - rmse: 81.5875 - mse: 6656.5161 - val_loss: 5001.1763 - val_rmse: 70.7141 - val_mse: 5001.1763\n",
      "Epoch 11/60\n",
      "1/1 [==============================] - 0s 333ms/step - loss: 5050.5864 - rmse: 71.0675 - mse: 5050.5864 - val_loss: 4133.9268 - val_rmse: 64.2900 - val_mse: 4133.9268\n",
      "Epoch 12/60\n",
      "1/1 [==============================] - 0s 422ms/step - loss: 5589.7012 - rmse: 74.7643 - mse: 5589.7012 - val_loss: 3369.9080 - val_rmse: 58.0424 - val_mse: 3369.9080\n",
      "Epoch 13/60\n",
      "1/1 [==============================] - 0s 396ms/step - loss: 3468.2629 - rmse: 58.8920 - mse: 3468.2629 - val_loss: 2755.2061 - val_rmse: 52.4837 - val_mse: 2755.2061\n",
      "Epoch 14/60\n",
      "1/1 [==============================] - 0s 438ms/step - loss: 2816.5850 - rmse: 53.0715 - mse: 2816.5850 - val_loss: 2170.5769 - val_rmse: 46.5820 - val_mse: 2170.5769\n",
      "Epoch 15/60\n",
      "1/1 [==============================] - 0s 362ms/step - loss: 3195.5901 - rmse: 56.5296 - mse: 3195.5901 - val_loss: 1675.8916 - val_rmse: 40.9336 - val_mse: 1675.8916\n",
      "Epoch 16/60\n",
      "1/1 [==============================] - 0s 440ms/step - loss: 1648.8600 - rmse: 40.6062 - mse: 1648.8600 - val_loss: 1266.3534 - val_rmse: 35.5806 - val_mse: 1266.3534\n",
      "Epoch 17/60\n",
      "1/1 [==============================] - 0s 380ms/step - loss: 1738.8861 - rmse: 41.7000 - mse: 1738.8861 - val_loss: 958.2893 - val_rmse: 30.9529 - val_mse: 958.2893\n",
      "Epoch 18/60\n",
      "1/1 [==============================] - 0s 311ms/step - loss: 1088.3341 - rmse: 32.9899 - mse: 1088.3341 - val_loss: 895.2518 - val_rmse: 29.9177 - val_mse: 895.2518\n",
      "Epoch 19/60\n",
      "1/1 [==============================] - 0s 308ms/step - loss: 971.3596 - rmse: 31.1666 - mse: 971.3596 - val_loss: 825.4963 - val_rmse: 28.7259 - val_mse: 825.4963\n",
      "Epoch 20/60\n",
      "1/1 [==============================] - 0s 322ms/step - loss: 1149.1495 - rmse: 33.8991 - mse: 1149.1495 - val_loss: 749.6959 - val_rmse: 27.3757 - val_mse: 749.6959\n",
      "Epoch 21/60\n",
      "1/1 [==============================] - 0s 291ms/step - loss: 745.4935 - rmse: 27.3037 - mse: 745.4935 - val_loss: 669.3944 - val_rmse: 25.8676 - val_mse: 669.3944\n",
      "Epoch 22/60\n",
      "1/1 [==============================] - 0s 298ms/step - loss: 650.9774 - rmse: 25.5143 - mse: 650.9774 - val_loss: 611.5525 - val_rmse: 24.7255 - val_mse: 611.5525\n",
      "Epoch 23/60\n",
      "1/1 [==============================] - 0s 322ms/step - loss: 601.2504 - rmse: 24.5204 - mse: 601.2504 - val_loss: 550.7558 - val_rmse: 23.4642 - val_mse: 550.7558\n",
      "Epoch 24/60\n",
      "1/1 [==============================] - 0s 329ms/step - loss: 546.6478 - rmse: 23.3805 - mse: 546.6478 - val_loss: 502.9164 - val_rmse: 22.4216 - val_mse: 502.9164\n",
      "Epoch 25/60\n",
      "1/1 [==============================] - 0s 310ms/step - loss: 560.5963 - rmse: 23.6769 - mse: 560.5963 - val_loss: 478.2774 - val_rmse: 21.8650 - val_mse: 478.2774\n",
      "Epoch 26/60\n",
      "1/1 [==============================] - 0s 304ms/step - loss: 584.7243 - rmse: 24.1811 - mse: 584.7243 - val_loss: 446.0689 - val_rmse: 21.1186 - val_mse: 446.0689\n",
      "Epoch 27/60\n",
      "1/1 [==============================] - 0s 300ms/step - loss: 408.1335 - rmse: 20.2023 - mse: 408.1335 - val_loss: 422.1030 - val_rmse: 20.5381 - val_mse: 422.1030\n",
      "Epoch 28/60\n",
      "1/1 [==============================] - 0s 335ms/step - loss: 418.8575 - rmse: 20.4660 - mse: 418.8575 - val_loss: 397.8535 - val_rmse: 19.9414 - val_mse: 397.8535\n",
      "Epoch 29/60\n",
      "1/1 [==============================] - 0s 313ms/step - loss: 496.0033 - rmse: 22.2711 - mse: 496.0033 - val_loss: 381.2452 - val_rmse: 19.5190 - val_mse: 381.2452\n",
      "Epoch 30/60\n",
      "1/1 [==============================] - 0s 323ms/step - loss: 382.1068 - rmse: 19.5476 - mse: 382.1068 - val_loss: 351.9094 - val_rmse: 18.7518 - val_mse: 351.9094\n",
      "Epoch 31/60\n",
      "1/1 [==============================] - 0s 377ms/step - loss: 476.0297 - rmse: 21.8181 - mse: 476.0297 - val_loss: 347.2327 - val_rmse: 18.6144 - val_mse: 347.2327\n",
      "Epoch 32/60\n",
      "1/1 [==============================] - 0s 389ms/step - loss: 344.7206 - rmse: 18.5667 - mse: 344.7206 - val_loss: 318.6892 - val_rmse: 17.8426 - val_mse: 318.6892\n",
      "Epoch 33/60\n",
      "1/1 [==============================] - 0s 326ms/step - loss: 329.3804 - rmse: 18.1488 - mse: 329.3804 - val_loss: 302.9960 - val_rmse: 17.4033 - val_mse: 302.9960\n",
      "Epoch 34/60\n",
      "1/1 [==============================] - 0s 412ms/step - loss: 338.5913 - rmse: 18.4009 - mse: 338.5913 - val_loss: 292.1288 - val_rmse: 17.0855 - val_mse: 292.1288\n",
      "Epoch 35/60\n",
      "1/1 [==============================] - 0s 425ms/step - loss: 314.3141 - rmse: 17.7289 - mse: 314.3141 - val_loss: 294.3033 - val_rmse: 17.1516 - val_mse: 294.3033\n",
      "Epoch 36/60\n",
      "1/1 [==============================] - 0s 408ms/step - loss: 281.5948 - rmse: 16.7808 - mse: 281.5948 - val_loss: 287.3816 - val_rmse: 16.9429 - val_mse: 287.3816\n",
      "Epoch 37/60\n",
      "1/1 [==============================] - 0s 341ms/step - loss: 307.6383 - rmse: 17.5396 - mse: 307.6383 - val_loss: 290.5587 - val_rmse: 17.0425 - val_mse: 290.5587\n",
      "Epoch 38/60\n",
      "1/1 [==============================] - 0s 327ms/step - loss: 313.2726 - rmse: 17.6995 - mse: 313.2726 - val_loss: 284.7689 - val_rmse: 16.8682 - val_mse: 284.7689\n",
      "Epoch 39/60\n",
      "1/1 [==============================] - 0s 304ms/step - loss: 291.7355 - rmse: 17.0803 - mse: 291.7355 - val_loss: 273.0964 - val_rmse: 16.5217 - val_mse: 273.0964\n",
      "Epoch 40/60\n",
      "1/1 [==============================] - 0s 353ms/step - loss: 315.5426 - rmse: 17.7635 - mse: 315.5426 - val_loss: 278.3037 - val_rmse: 16.6704 - val_mse: 278.3037\n",
      "Epoch 41/60\n",
      "1/1 [==============================] - 0s 326ms/step - loss: 293.3107 - rmse: 17.1263 - mse: 293.3107 - val_loss: 265.0017 - val_rmse: 16.2671 - val_mse: 265.0017\n",
      "Epoch 42/60\n",
      "1/1 [==============================] - 0s 322ms/step - loss: 288.8631 - rmse: 16.9960 - mse: 288.8631 - val_loss: 257.0120 - val_rmse: 16.0240 - val_mse: 257.0120\n",
      "Epoch 43/60\n",
      "1/1 [==============================] - 0s 335ms/step - loss: 267.0607 - rmse: 16.3420 - mse: 267.0607 - val_loss: 250.7227 - val_rmse: 15.8183 - val_mse: 250.7227\n",
      "Epoch 44/60\n",
      "1/1 [==============================] - 0s 305ms/step - loss: 246.5746 - rmse: 15.7027 - mse: 246.5746 - val_loss: 250.6600 - val_rmse: 15.8225 - val_mse: 250.6600\n",
      "Epoch 45/60\n",
      "1/1 [==============================] - 0s 344ms/step - loss: 325.5198 - rmse: 18.0422 - mse: 325.5198 - val_loss: 235.4447 - val_rmse: 15.3395 - val_mse: 235.4447\n",
      "Epoch 46/60\n",
      "1/1 [==============================] - 0s 307ms/step - loss: 245.1828 - rmse: 15.6583 - mse: 245.1828 - val_loss: 240.7036 - val_rmse: 15.5083 - val_mse: 240.7036\n",
      "Epoch 47/60\n",
      "1/1 [==============================] - 0s 316ms/step - loss: 247.8266 - rmse: 15.7425 - mse: 247.8266 - val_loss: 232.4067 - val_rmse: 15.2250 - val_mse: 232.4067\n",
      "Epoch 48/60\n",
      "1/1 [==============================] - 0s 332ms/step - loss: 255.3087 - rmse: 15.9784 - mse: 255.3087 - val_loss: 226.2794 - val_rmse: 15.0325 - val_mse: 226.2794\n",
      "Epoch 49/60\n",
      "1/1 [==============================] - 0s 310ms/step - loss: 217.3611 - rmse: 14.7432 - mse: 217.3611 - val_loss: 222.8107 - val_rmse: 14.9193 - val_mse: 222.8107\n",
      "Epoch 50/60\n",
      "1/1 [==============================] - 0s 364ms/step - loss: 203.2218 - rmse: 14.2556 - mse: 203.2218 - val_loss: 216.9877 - val_rmse: 14.7213 - val_mse: 216.9877\n",
      "Epoch 51/60\n",
      "1/1 [==============================] - 0s 376ms/step - loss: 176.7015 - rmse: 13.2929 - mse: 176.7015 - val_loss: 219.4783 - val_rmse: 14.8086 - val_mse: 219.4783\n",
      "Epoch 52/60\n",
      "1/1 [==============================] - 0s 414ms/step - loss: 224.1588 - rmse: 14.9719 - mse: 224.1588 - val_loss: 220.0054 - val_rmse: 14.8246 - val_mse: 220.0054\n",
      "Epoch 53/60\n",
      "1/1 [==============================] - 0s 381ms/step - loss: 219.3203 - rmse: 14.8095 - mse: 219.3203 - val_loss: 225.3313 - val_rmse: 15.0019 - val_mse: 225.3313\n",
      "Epoch 54/60\n",
      "1/1 [==============================] - 0s 394ms/step - loss: 190.1218 - rmse: 13.7885 - mse: 190.1218 - val_loss: 224.4469 - val_rmse: 14.9656 - val_mse: 224.4469\n",
      "Epoch 55/60\n",
      "1/1 [==============================] - 0s 325ms/step - loss: 203.4926 - rmse: 14.2651 - mse: 203.4926 - val_loss: 226.0165 - val_rmse: 15.0118 - val_mse: 226.0165\n",
      "Epoch 56/60\n",
      "1/1 [==============================] - 0s 302ms/step - loss: 242.6592 - rmse: 15.5775 - mse: 242.6592 - val_loss: 224.6012 - val_rmse: 14.9776 - val_mse: 224.6012\n",
      "Epoch 57/60\n",
      "1/1 [==============================] - 0s 339ms/step - loss: 184.2605 - rmse: 13.5743 - mse: 184.2605 - val_loss: 223.8647 - val_rmse: 14.9530 - val_mse: 223.8647\n",
      "Epoch 58/60\n",
      "1/1 [==============================] - 0s 318ms/step - loss: 275.4148 - rmse: 16.5956 - mse: 275.4148 - val_loss: 219.1304 - val_rmse: 14.7957 - val_mse: 219.1304\n",
      "Epoch 59/60\n",
      "1/1 [==============================] - 0s 419ms/step - loss: 285.9702 - rmse: 16.9107 - mse: 285.9702 - val_loss: 223.7983 - val_rmse: 14.9477 - val_mse: 223.7983\n",
      "Epoch 60/60\n",
      "1/1 [==============================] - 0s 361ms/step - loss: 192.8228 - rmse: 13.8861 - mse: 192.8228 - val_loss: 215.3019 - val_rmse: 14.6625 - val_mse: 215.3019\n",
      "CPU times: user 46.2 s, sys: 10.2 s, total: 56.4 s\n",
      "Wall time: 37.6 s\n"
     ]
    }
   ],
   "source": [
    "%%time\n",
    "steps_per_epoch = NUM_TRAIN_EXAMPLES // (BATCH_SIZE * NUM_EVALS)\n",
    "\n",
    "LOGDIR = \"./taxi_trained\"\n",
    "history = model.fit(x=trainds,\n",
    "                    steps_per_epoch=steps_per_epoch,\n",
    "                    epochs=NUM_EVALS,\n",
    "                    validation_data=evalds,\n",
    "                    callbacks=[TensorBoard(LOGDIR)])"
   ]
  },
  {
   "cell_type": "code",
   "execution_count": 35,
   "metadata": {},
   "outputs": [
    {
     "data": {
      "text/plain": [
       "<AxesSubplot:>"
      ]
     },
     "execution_count": 35,
     "metadata": {},
     "output_type": "execute_result"
    },
    {
     "data": {
      "image/png": "[encoded data removed]",
      "text/plain": [
       "<Figure size 432x288 with 1 Axes>"
      ]
     },
     "metadata": {
      "needs_background": "light"
     },
     "output_type": "display_data"
    }
   ],
   "source": [
    "RMSE_COLS = ['rmse', 'val_rmse']\n",
    "\n",
    "pd.DataFrame(history.history)[RMSE_COLS].plot()"
   ]
  },
  {
   "cell_type": "code",
   "execution_count": 15,
   "metadata": {},
   "outputs": [
    {
     "name": "stdout",
     "output_type": "stream",
     "text": [
      "WARNING:tensorflow:Layers in a Sequential model should only have a single input tensor, but we receive a <class 'dict'> input: {'dayofweek': <tf.Tensor 'ExpandDims:0' shape=(1, 1) dtype=int32>, 'hourofday': <tf.Tensor 'ExpandDims_3:0' shape=(1, 1) dtype=int32>, 'pickup_longitude': <tf.Tensor 'ExpandDims_5:0' shape=(1, 1) dtype=float32>, 'pickup_latitude': <tf.Tensor 'ExpandDims_4:0' shape=(1, 1) dtype=float32>, 'dropoff_longitude': <tf.Tensor 'ExpandDims_2:0' shape=(1, 1) dtype=float32>, 'dropoff_latitude': <tf.Tensor 'ExpandDims_1:0' shape=(1, 1) dtype=float32>, 'traffic_last_5min': <tf.Tensor 'ExpandDims_6:0' shape=(1, 1) dtype=int32>}\n",
      "Consider rewriting this model with the Functional API.\n"
     ]
    },
    {
     "data": {
      "text/plain": [
       "array([[11.343341]], dtype=float32)"
      ]
     },
     "execution_count": 15,
     "metadata": {},
     "output_type": "execute_result"
    }
   ],
   "source": [
    "model.predict(x={\"dayofweek\": tf.convert_to_tensor([6]),\n",
    "                 \"hourofday\": tf.convert_to_tensor([17]),\n",
    "                 \"pickup_longitude\": tf.convert_to_tensor([-73.982683]),\n",
    "                 \"pickup_latitude\": tf.convert_to_tensor([40.742104]),\n",
    "                 \"dropoff_longitude\": tf.convert_to_tensor([-73.983766]),\n",
    "                 \"dropoff_latitude\": tf.convert_to_tensor([40.755174]),\n",
    "                \"traffic_last_5min\": tf.convert_to_tensor([114])},\n",
    "              steps=1)"
   ]
  },
  {
   "cell_type": "markdown",
   "metadata": {},
   "source": [
    "## Export and deploy model"
   ]
  },
  {
   "cell_type": "code",
   "execution_count": 16,
   "metadata": {},
   "outputs": [
    {
     "name": "stdout",
     "output_type": "stream",
     "text": [
      "WARNING:tensorflow:Layers in a Sequential model should only have a single input tensor, but we receive a <class 'collections.OrderedDict'> input: OrderedDict([('dayofweek', <tf.Tensor 'dayofweek:0' shape=(None, 1) dtype=float32>), ('hourofday', <tf.Tensor 'hourofday:0' shape=(None, 1) dtype=float32>), ('pickup_longitude', <tf.Tensor 'pickup_longitude:0' shape=(None, 1) dtype=float32>), ('pickup_latitude', <tf.Tensor 'pickup_latitude:0' shape=(None, 1) dtype=float32>), ('dropoff_longitude', <tf.Tensor 'dropoff_longitude:0' shape=(None, 1) dtype=float32>), ('dropoff_latitude', <tf.Tensor 'dropoff_latitude:0' shape=(None, 1) dtype=float32>), ('traffic_last_5min', <tf.Tensor 'traffic_last_5min:0' shape=(None, 1) dtype=float32>)])\n",
      "Consider rewriting this model with the Functional API.\n",
      "WARNING:tensorflow:Layers in a Sequential model should only have a single input tensor, but we receive a <class 'collections.OrderedDict'> input: OrderedDict([('dayofweek', <tf.Tensor 'dayofweek:0' shape=(None, 1) dtype=float32>), ('hourofday', <tf.Tensor 'hourofday:0' shape=(None, 1) dtype=float32>), ('pickup_longitude', <tf.Tensor 'pickup_longitude:0' shape=(None, 1) dtype=float32>), ('pickup_latitude', <tf.Tensor 'pickup_latitude:0' shape=(None, 1) dtype=float32>), ('dropoff_longitude', <tf.Tensor 'dropoff_longitude:0' shape=(None, 1) dtype=float32>), ('dropoff_latitude', <tf.Tensor 'dropoff_latitude:0' shape=(None, 1) dtype=float32>), ('traffic_last_5min', <tf.Tensor 'traffic_last_5min:0' shape=(None, 1) dtype=float32>)])\n",
      "Consider rewriting this model with the Functional API.\n",
      "WARNING:tensorflow:Layers in a Sequential model should only have a single input tensor, but we receive a <class 'collections.OrderedDict'> input: OrderedDict([('dayofweek', <tf.Tensor 'dayofweek:0' shape=(None, 1) dtype=float32>), ('hourofday', <tf.Tensor 'hourofday:0' shape=(None, 1) dtype=float32>), ('pickup_longitude', <tf.Tensor 'pickup_longitude:0' shape=(None, 1) dtype=float32>), ('pickup_latitude', <tf.Tensor 'pickup_latitude:0' shape=(None, 1) dtype=float32>), ('dropoff_longitude', <tf.Tensor 'dropoff_longitude:0' shape=(None, 1) dtype=float32>), ('dropoff_latitude', <tf.Tensor 'dropoff_latitude:0' shape=(None, 1) dtype=float32>), ('traffic_last_5min', <tf.Tensor 'traffic_last_5min:0' shape=(None, 1) dtype=float32>)])\n",
      "Consider rewriting this model with the Functional API.\n",
      "WARNING:tensorflow:Layers in a Sequential model should only have a single input tensor, but we receive a <class 'collections.OrderedDict'> input: OrderedDict([('dayofweek', <tf.Tensor 'inputs:0' shape=(None, 1) dtype=float32>), ('hourofday', <tf.Tensor 'inputs_3:0' shape=(None, 1) dtype=float32>), ('pickup_longitude', <tf.Tensor 'inputs_5:0' shape=(None, 1) dtype=float32>), ('pickup_latitude', <tf.Tensor 'inputs_4:0' shape=(None, 1) dtype=float32>), ('dropoff_longitude', <tf.Tensor 'inputs_2:0' shape=(None, 1) dtype=float32>), ('dropoff_latitude', <tf.Tensor 'inputs_1:0' shape=(None, 1) dtype=float32>), ('traffic_last_5min', <tf.Tensor 'inputs_6:0' shape=(None, 1) dtype=float32>)])\n",
      "Consider rewriting this model with the Functional API.\n",
      "WARNING:tensorflow:Layers in a Sequential model should only have a single input tensor, but we receive a <class 'collections.OrderedDict'> input: OrderedDict([('dayofweek', <tf.Tensor 'inputs:0' shape=(None, 1) dtype=float32>), ('hourofday', <tf.Tensor 'inputs_3:0' shape=(None, 1) dtype=float32>), ('pickup_longitude', <tf.Tensor 'inputs_5:0' shape=(None, 1) dtype=float32>), ('pickup_latitude', <tf.Tensor 'inputs_4:0' shape=(None, 1) dtype=float32>), ('dropoff_longitude', <tf.Tensor 'inputs_2:0' shape=(None, 1) dtype=float32>), ('dropoff_latitude', <tf.Tensor 'inputs_1:0' shape=(None, 1) dtype=float32>), ('traffic_last_5min', <tf.Tensor 'inputs_6:0' shape=(None, 1) dtype=float32>)])\n",
      "Consider rewriting this model with the Functional API.\n",
      "WARNING:tensorflow:From /opt/conda/lib/python3.7/site-packages/tensorflow/python/training/tracking/tracking.py:111: Model.state_updates (from tensorflow.python.keras.engine.training) is deprecated and will be removed in a future version.\n",
      "Instructions for updating:\n",
      "This property should not be used in TensorFlow 2.0, as updates are applied automatically.\n",
      "WARNING:tensorflow:From /opt/conda/lib/python3.7/site-packages/tensorflow/python/training/tracking/tracking.py:111: Layer.updates (from tensorflow.python.keras.engine.base_layer) is deprecated and will be removed in a future version.\n",
      "Instructions for updating:\n",
      "This property should not be used in TensorFlow 2.0, as updates are applied automatically.\n",
      "WARNING:tensorflow:Layers in a Sequential model should only have a single input tensor, but we receive a <class 'collections.OrderedDict'> input: OrderedDict([('dayofweek', <tf.Tensor 'dayofweek:0' shape=(None, 1) dtype=float32>), ('hourofday', <tf.Tensor 'hourofday:0' shape=(None, 1) dtype=float32>), ('pickup_longitude', <tf.Tensor 'pickup_longitude:0' shape=(None, 1) dtype=float32>), ('pickup_latitude', <tf.Tensor 'pickup_latitude:0' shape=(None, 1) dtype=float32>), ('dropoff_longitude', <tf.Tensor 'dropoff_longitude:0' shape=(None, 1) dtype=float32>), ('dropoff_latitude', <tf.Tensor 'dropoff_latitude:0' shape=(None, 1) dtype=float32>), ('traffic_last_5min', <tf.Tensor 'traffic_last_5min:0' shape=(None, 1) dtype=float32>)])\n",
      "Consider rewriting this model with the Functional API.\n",
      "WARNING:tensorflow:Layers in a Sequential model should only have a single input tensor, but we receive a <class 'collections.OrderedDict'> input: OrderedDict([('dayofweek', <tf.Tensor 'dayofweek:0' shape=(None, 1) dtype=float32>), ('hourofday', <tf.Tensor 'hourofday:0' shape=(None, 1) dtype=float32>), ('pickup_longitude', <tf.Tensor 'pickup_longitude:0' shape=(None, 1) dtype=float32>), ('pickup_latitude', <tf.Tensor 'pickup_latitude:0' shape=(None, 1) dtype=float32>), ('dropoff_longitude', <tf.Tensor 'dropoff_longitude:0' shape=(None, 1) dtype=float32>), ('dropoff_latitude', <tf.Tensor 'dropoff_latitude:0' shape=(None, 1) dtype=float32>), ('traffic_last_5min', <tf.Tensor 'traffic_last_5min:0' shape=(None, 1) dtype=float32>)])\n",
      "Consider rewriting this model with the Functional API.\n",
      "WARNING:tensorflow:Layers in a Sequential model should only have a single input tensor, but we receive a <class 'collections.OrderedDict'> input: OrderedDict([('dayofweek', <tf.Tensor 'inputs/dayofweek:0' shape=(None, 1) dtype=float32>), ('hourofday', <tf.Tensor 'inputs/hourofday:0' shape=(None, 1) dtype=float32>), ('pickup_longitude', <tf.Tensor 'inputs/pickup_longitude:0' shape=(None, 1) dtype=float32>), ('pickup_latitude', <tf.Tensor 'inputs/pickup_latitude:0' shape=(None, 1) dtype=float32>), ('dropoff_longitude', <tf.Tensor 'inputs/dropoff_longitude:0' shape=(None, 1) dtype=float32>), ('dropoff_latitude', <tf.Tensor 'inputs/dropoff_latitude:0' shape=(None, 1) dtype=float32>), ('traffic_last_5min', <tf.Tensor 'inputs/traffic_last_5min:0' shape=(None, 1) dtype=float32>)])\n",
      "Consider rewriting this model with the Functional API.\n",
      "WARNING:tensorflow:Layers in a Sequential model should only have a single input tensor, but we receive a <class 'collections.OrderedDict'> input: OrderedDict([('dayofweek', <tf.Tensor 'inputs/dayofweek:0' shape=(None, 1) dtype=float32>), ('hourofday', <tf.Tensor 'inputs/hourofday:0' shape=(None, 1) dtype=float32>), ('pickup_longitude', <tf.Tensor 'inputs/pickup_longitude:0' shape=(None, 1) dtype=float32>), ('pickup_latitude', <tf.Tensor 'inputs/pickup_latitude:0' shape=(None, 1) dtype=float32>), ('dropoff_longitude', <tf.Tensor 'inputs/dropoff_longitude:0' shape=(None, 1) dtype=float32>), ('dropoff_latitude', <tf.Tensor 'inputs/dropoff_latitude:0' shape=(None, 1) dtype=float32>), ('traffic_last_5min', <tf.Tensor 'inputs/traffic_last_5min:0' shape=(None, 1) dtype=float32>)])\n",
      "Consider rewriting this model with the Functional API.\n",
      "INFO:tensorflow:Assets written to: ./export/savedmodel/20210604045255/assets\n"
     ]
    }
   ],
   "source": [
    "OUTPUT_DIR = \"./export/savedmodel\"\n",
    "shutil.rmtree(OUTPUT_DIR, ignore_errors=True)\n",
    "EXPORT_PATH = os.path.join(OUTPUT_DIR,\n",
    "                           datetime.datetime.now().strftime(\"%Y%m%d%H%M%S\"))\n",
    "tf.saved_model.save(model, EXPORT_PATH)  # with default serving function\n",
    "os.environ['EXPORT_PATH'] = EXPORT_PATH"
   ]
  },
  {
   "cell_type": "code",
   "execution_count": 17,
   "metadata": {},
   "outputs": [
    {
     "name": "stdout",
     "output_type": "stream",
     "text": [
      "Creating taxifare\n",
      "Creating taxifare:traffic\n"
     ]
    },
    {
     "name": "stderr",
     "output_type": "stream",
     "text": [
      "Using endpoint [https://us-central1-ml.googleapis.com/]\n",
      "Using endpoint [https://us-central1-ml.googleapis.com/]\n",
      "Created ai platform model [projects/qwiklabs-gcp-04-569268d5f324/models/taxifare].\n",
      "Using endpoint [https://us-central1-ml.googleapis.com/]\n",
      "Using endpoint [https://us-central1-ml.googleapis.com/]\n"
     ]
    }
   ],
   "source": [
    "%%bash\n",
    "PROJECT=${PROJECT}\n",
    "BUCKET=${BUCKET}\n",
    "REGION=${REGION}\n",
    "MODEL_NAME=taxifare\n",
    "VERSION_NAME=traffic\n",
    "\n",
    "if [[ $(gcloud ai-platform models list --format='value(name)' --region=$REGION | grep \"^$MODEL_NAME$\") ]]; then\n",
    "    echo \"$MODEL_NAME already exists\"\n",
    "else\n",
    "    # create model\n",
    "    echo \"Creating $MODEL_NAME\"\n",
    "    gcloud ai-platform models create --region=$REGION $MODEL_NAME\n",
    "fi\n",
    "\n",
    "if [[ $(gcloud ai-platform versions list --model $MODEL_NAME --format='value(name)' --region=$REGION | grep \"^$VERSION_NAME$\") ]]; then\n",
    "    echo \"Deleting already existing $MODEL_NAME:$VERSION_NAME ... \"\n",
    "    gcloud ai-platform versions delete --model=$MODEL_NAME $VERSION_NAME --region=$REGION\n",
    "    echo \"Please run this cell again if you don't see a Creating message ... \"\n",
    "    sleep 2\n",
    "fi\n",
    "\n",
    "# create model\n",
    "echo \"Creating $MODEL_NAME:$VERSION_NAME\"\n",
    "gcloud ai-platform versions create --model=$MODEL_NAME $VERSION_NAME --async \\\n",
    "       --framework=tensorflow --python-version=3.5 --runtime-version=1.14 \\\n",
    "       --origin=${EXPORT_PATH} --staging-bucket=gs://$BUCKET --region=$REGION"
   ]
  },
  {
   "cell_type": "markdown",
   "metadata": {},
   "source": [
    "Copyright 2019 Google Inc. Licensed under the Apache License, Version 2.0 (the \"License\"); you may not use this file except in compliance with the License. You may obtain a copy of the License at http://www.apache.org/licenses/LICENSE-2.0 Unless required by applicable law or agreed to in writing, software distributed under the License is distributed on an \"AS IS\" BASIS, WITHOUT WARRANTIES OR CONDITIONS OF ANY KIND, either express or implied. See the License for the specific language governing permissions and limitations under the License"
   ]
  }
 ],
 "metadata": {
  "environment": {
   "name": "tf2-gpu.2-1.m69",
   "type": "gcloud",
   "uri": "gcr.io/deeplearning-platform-release/tf2-gpu.2-1:m69"
  },
  "kernelspec": {
   "display_name": "Python 3",
   "language": "python",
   "name": "python3"
  },
  "language_info": {
   "codemirror_mode": {
    "name": "ipython",
    "version": 3
   },
   "file_extension": ".py",
   "mimetype": "text/x-python",
   "name": "python",
   "nbconvert_exporter": "python",
   "pygments_lexer": "ipython3",
   "version": "3.7.10"
  }
 },
 "nbformat": 4,
 "nbformat_minor": 4
}
