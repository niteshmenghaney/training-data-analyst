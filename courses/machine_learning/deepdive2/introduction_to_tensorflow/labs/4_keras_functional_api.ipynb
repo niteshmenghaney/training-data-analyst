{
 "cells": [
  {
   "cell_type": "markdown",
   "metadata": {},
   "source": [
    "# Introducing the Keras Functional API\n",
    "\n",
    "**Learning Objectives**\n",
    "  1. Understand embeddings and how to create them with the feature column API\n",
    "  1. Understand Deep and Wide models and when to use them\n",
    "  1. Understand the Keras functional API and how to build a deep and wide model with it\n",
    "\n",
    "## Introduction\n",
    "\n",
    "In the last notebook, we learned about the Keras Sequential API. The [Keras Functional API](https://www.tensorflow.org/guide/keras#functional_api) provides an alternate way of building models which is more flexible. With the Functional API, we can build models with more complex topologies, multiple input or output layers, shared layers or non-sequential data flows (e.g. residual layers).\n",
    "\n",
    "In this notebook we'll use what we learned about feature columns to build a Wide & Deep model. Recall, that the idea behind Wide & Deep models is to join the two methods of learning through memorization and generalization by making a wide linear model and a deep learning model to accommodate both. You can have a look at the original research paper here: [Wide & Deep Learning for Recommender Systems](https://arxiv.org/abs/1606.07792).\n",
    "\n",
    "<img src='assets/wide_deep.png' width='80%'>\n",
    "<sup>(image: https://ai.googleblog.com/2016/06/wide-deep-learning-better-together-with.html)</sup>\n",
    "\n",
    "The Wide part of the model is associated with the memory element. In this case, we train a linear model with a wide set of crossed features and learn the correlation of this related data with the assigned label. The Deep part of the model is associated with the generalization element where we use embedding vectors for features. The best embeddings are then learned through the training process. While both of these methods can work well alone, Wide & Deep models excel by combining these techniques together.\n",
    "\n",
    "Each learning objective will correspond to a __#TODO__  in this student lab notebook -- try to complete this notebook first and then review the [solution notebook](https://github.com/GoogleCloudPlatform/training-data-analyst/blob/master/courses/machine_learning/deepdive2/introduction_to_tensorflow/solutions/4_keras_functional_api.ipynb)\n"
   ]
  },
  {
   "cell_type": "code",
   "execution_count": 1,
   "metadata": {},
   "outputs": [],
   "source": [
    "# Use the chown command to change the ownership of the repository.\n",
    "!sudo chown -R jupyter:jupyter /home/jupyter/training-data-analyst"
   ]
  },
  {
   "cell_type": "code",
   "execution_count": 2,
   "metadata": {},
   "outputs": [
    {
     "name": "stdout",
     "output_type": "stream",
     "text": [
      "Collecting tensorflow==2.3\n",
      "  Downloading tensorflow-2.3.0-cp37-cp37m-manylinux2010_x86_64.whl (320.4 MB)\n",
      "\u001b[K     |████████████████████████████████| 320.4 MB 30 kB/s s eta 0:00:011\n",
      "\u001b[?25hRequirement already satisfied: grpcio>=1.8.6 in /opt/conda/lib/python3.7/site-packages (from tensorflow==2.3) (1.37.1)\n",
      "Requirement already satisfied: tensorboard<3,>=2.3.0 in /opt/conda/lib/python3.7/site-packages (from tensorflow==2.3) (2.5.0)\n",
      "Requirement already satisfied: protobuf>=3.9.2 in /opt/conda/lib/python3.7/site-packages (from tensorflow==2.3) (3.16.0)\n",
      "Requirement already satisfied: six>=1.12.0 in /opt/conda/lib/python3.7/site-packages (from tensorflow==2.3) (1.16.0)\n",
      "Requirement already satisfied: absl-py>=0.7.0 in /opt/conda/lib/python3.7/site-packages (from tensorflow==2.3) (0.8.1)\n",
      "Collecting numpy<1.19.0,>=1.16.0\n",
      "  Downloading numpy-1.18.5-cp37-cp37m-manylinux1_x86_64.whl (20.1 MB)\n",
      "\u001b[K     |████████████████████████████████| 20.1 MB 49.8 MB/s eta 0:00:01\n",
      "\u001b[?25hRequirement already satisfied: h5py<2.11.0,>=2.10.0 in /opt/conda/lib/python3.7/site-packages (from tensorflow==2.3) (2.10.0)\n",
      "Requirement already satisfied: wrapt>=1.11.1 in /opt/conda/lib/python3.7/site-packages (from tensorflow==2.3) (1.12.1)\n",
      "Collecting astunparse==1.6.3\n",
      "  Downloading astunparse-1.6.3-py2.py3-none-any.whl (12 kB)\n",
      "Requirement already satisfied: termcolor>=1.1.0 in /opt/conda/lib/python3.7/site-packages (from tensorflow==2.3) (1.1.0)\n",
      "Collecting scipy==1.4.1\n",
      "  Downloading scipy-1.4.1-cp37-cp37m-manylinux1_x86_64.whl (26.1 MB)\n",
      "\u001b[K     |████████████████████████████████| 26.1 MB 51.2 MB/s eta 0:00:01\n",
      "\u001b[?25hCollecting keras-preprocessing<1.2,>=1.1.1\n",
      "  Downloading Keras_Preprocessing-1.1.2-py2.py3-none-any.whl (42 kB)\n",
      "\u001b[K     |████████████████████████████████| 42 kB 1.7 MB/s  eta 0:00:01\n",
      "\u001b[?25hCollecting gast==0.3.3\n",
      "  Downloading gast-0.3.3-py2.py3-none-any.whl (9.7 kB)\n",
      "Requirement already satisfied: wheel>=0.26 in /opt/conda/lib/python3.7/site-packages (from tensorflow==2.3) (0.36.2)\n",
      "Requirement already satisfied: google-pasta>=0.1.8 in /opt/conda/lib/python3.7/site-packages (from tensorflow==2.3) (0.2.0)\n",
      "Requirement already satisfied: opt-einsum>=2.3.2 in /opt/conda/lib/python3.7/site-packages (from tensorflow==2.3) (3.3.0)\n",
      "Collecting tensorflow-estimator<2.4.0,>=2.3.0\n",
      "  Downloading tensorflow_estimator-2.3.0-py2.py3-none-any.whl (459 kB)\n",
      "\u001b[K     |████████████████████████████████| 459 kB 62.7 MB/s eta 0:00:01\n",
      "\u001b[?25hRequirement already satisfied: requests<3,>=2.21.0 in /opt/conda/lib/python3.7/site-packages (from tensorboard<3,>=2.3.0->tensorflow==2.3) (2.25.1)\n",
      "Requirement already satisfied: markdown>=2.6.8 in /opt/conda/lib/python3.7/site-packages (from tensorboard<3,>=2.3.0->tensorflow==2.3) (3.3.4)\n",
      "Requirement already satisfied: tensorboard-plugin-wit>=1.6.0 in /opt/conda/lib/python3.7/site-packages (from tensorboard<3,>=2.3.0->tensorflow==2.3) (1.8.0)\n",
      "Requirement already satisfied: google-auth<2,>=1.6.3 in /opt/conda/lib/python3.7/site-packages (from tensorboard<3,>=2.3.0->tensorflow==2.3) (1.30.0)\n",
      "Requirement already satisfied: tensorboard-data-server<0.7.0,>=0.6.0 in /opt/conda/lib/python3.7/site-packages (from tensorboard<3,>=2.3.0->tensorflow==2.3) (0.6.1)\n",
      "Requirement already satisfied: werkzeug>=0.11.15 in /opt/conda/lib/python3.7/site-packages (from tensorboard<3,>=2.3.0->tensorflow==2.3) (2.0.0)\n",
      "Requirement already satisfied: google-auth-oauthlib<0.5,>=0.4.1 in /opt/conda/lib/python3.7/site-packages (from tensorboard<3,>=2.3.0->tensorflow==2.3) (0.4.4)\n",
      "Requirement already satisfied: setuptools>=41.0.0 in /opt/conda/lib/python3.7/site-packages (from tensorboard<3,>=2.3.0->tensorflow==2.3) (49.6.0.post20210108)\n",
      "Requirement already satisfied: cachetools<5.0,>=2.0.0 in /opt/conda/lib/python3.7/site-packages (from google-auth<2,>=1.6.3->tensorboard<3,>=2.3.0->tensorflow==2.3) (4.2.2)\n",
      "Requirement already satisfied: pyasn1-modules>=0.2.1 in /opt/conda/lib/python3.7/site-packages (from google-auth<2,>=1.6.3->tensorboard<3,>=2.3.0->tensorflow==2.3) (0.2.7)\n",
      "Requirement already satisfied: rsa<5,>=3.1.4 in /opt/conda/lib/python3.7/site-packages (from google-auth<2,>=1.6.3->tensorboard<3,>=2.3.0->tensorflow==2.3) (4.7.2)\n",
      "Requirement already satisfied: requests-oauthlib>=0.7.0 in /opt/conda/lib/python3.7/site-packages (from google-auth-oauthlib<0.5,>=0.4.1->tensorboard<3,>=2.3.0->tensorflow==2.3) (1.3.0)\n",
      "Requirement already satisfied: importlib-metadata in /opt/conda/lib/python3.7/site-packages (from markdown>=2.6.8->tensorboard<3,>=2.3.0->tensorflow==2.3) (4.0.1)\n",
      "Requirement already satisfied: pyasn1<0.5.0,>=0.4.6 in /opt/conda/lib/python3.7/site-packages (from pyasn1-modules>=0.2.1->google-auth<2,>=1.6.3->tensorboard<3,>=2.3.0->tensorflow==2.3) (0.4.8)\n",
      "Requirement already satisfied: urllib3<1.27,>=1.21.1 in /opt/conda/lib/python3.7/site-packages (from requests<3,>=2.21.0->tensorboard<3,>=2.3.0->tensorflow==2.3) (1.26.4)\n",
      "Requirement already satisfied: certifi>=2017.4.17 in /opt/conda/lib/python3.7/site-packages (from requests<3,>=2.21.0->tensorboard<3,>=2.3.0->tensorflow==2.3) (2020.12.5)\n",
      "Requirement already satisfied: idna<3,>=2.5 in /opt/conda/lib/python3.7/site-packages (from requests<3,>=2.21.0->tensorboard<3,>=2.3.0->tensorflow==2.3) (2.10)\n",
      "Requirement already satisfied: chardet<5,>=3.0.2 in /opt/conda/lib/python3.7/site-packages (from requests<3,>=2.21.0->tensorboard<3,>=2.3.0->tensorflow==2.3) (4.0.0)\n",
      "Requirement already satisfied: oauthlib>=3.0.0 in /opt/conda/lib/python3.7/site-packages (from requests-oauthlib>=0.7.0->google-auth-oauthlib<0.5,>=0.4.1->tensorboard<3,>=2.3.0->tensorflow==2.3) (3.0.1)\n",
      "Requirement already satisfied: zipp>=0.5 in /opt/conda/lib/python3.7/site-packages (from importlib-metadata->markdown>=2.6.8->tensorboard<3,>=2.3.0->tensorflow==2.3) (3.4.1)\n",
      "Requirement already satisfied: typing-extensions>=3.6.4 in /opt/conda/lib/python3.7/site-packages (from importlib-metadata->markdown>=2.6.8->tensorboard<3,>=2.3.0->tensorflow==2.3) (3.7.4.3)\n",
      "Installing collected packages: numpy, tensorflow-estimator, scipy, keras-preprocessing, gast, astunparse, tensorflow\n",
      "  Attempting uninstall: numpy\n",
      "    Found existing installation: numpy 1.19.5\n",
      "    Uninstalling numpy-1.19.5:\n",
      "      Successfully uninstalled numpy-1.19.5\n",
      "  Attempting uninstall: tensorflow-estimator\n",
      "    Found existing installation: tensorflow-estimator 2.1.0\n",
      "    Uninstalling tensorflow-estimator-2.1.0:\n",
      "      Successfully uninstalled tensorflow-estimator-2.1.0\n",
      "  Attempting uninstall: scipy\n",
      "    Found existing installation: scipy 1.6.3\n",
      "    Uninstalling scipy-1.6.3:\n",
      "      Successfully uninstalled scipy-1.6.3\n",
      "  Attempting uninstall: keras-preprocessing\n",
      "    Found existing installation: Keras-Preprocessing 1.1.0\n",
      "    Uninstalling Keras-Preprocessing-1.1.0:\n",
      "      Successfully uninstalled Keras-Preprocessing-1.1.0\n",
      "  Attempting uninstall: gast\n",
      "    Found existing installation: gast 0.2.2\n",
      "    Uninstalling gast-0.2.2:\n",
      "      Successfully uninstalled gast-0.2.2\n",
      "  Attempting uninstall: tensorflow\n",
      "    Found existing installation: tensorflow 2.1.3\n",
      "    Uninstalling tensorflow-2.1.3:\n",
      "      Successfully uninstalled tensorflow-2.1.3\n",
      "\u001b[31mERROR: pip's dependency resolver does not currently take into account all the packages that are installed. This behaviour is the source of the following dependency conflicts.\n",
      "witwidget 1.7.0 requires oauth2client>=4.1.3, but you have oauth2client 3.0.0 which is incompatible.\n",
      "tfx 0.21.5 requires docker<5,>=4.1, but you have docker 5.0.0 which is incompatible.\n",
      "tfx 0.21.5 requires google-api-python-client<2,>=1.7.8, but you have google-api-python-client 2.3.0 which is incompatible.\n",
      "tfx 0.21.5 requires kubernetes<11,>=10.0.1, but you have kubernetes 12.0.1 which is incompatible.\n",
      "tfx 0.21.5 requires pyarrow<0.16,>=0.15, but you have pyarrow 4.0.0 which is incompatible.\n",
      "tfx-bsl 0.21.4 requires google-api-python-client<2,>=1.7.11, but you have google-api-python-client 2.3.0 which is incompatible.\n",
      "tfx-bsl 0.21.4 requires pyarrow<0.16.0,>=0.15.0, but you have pyarrow 4.0.0 which is incompatible.\n",
      "tensorflow-transform 0.21.2 requires tensorflow<2.2,>=1.15, but you have tensorflow 2.3.0 which is incompatible.\n",
      "tensorflow-serving-api 2.1.0 requires tensorflow~=2.1.0, but you have tensorflow 2.3.0 which is incompatible.\n",
      "tensorflow-model-analysis 0.21.6 requires pyarrow<1,>=0.15, but you have pyarrow 4.0.0 which is incompatible.\n",
      "tensorflow-io 0.11.0 requires tensorflow==2.1.0, but you have tensorflow 2.3.0 which is incompatible.\n",
      "tensorflow-data-validation 0.21.5 requires joblib<0.15,>=0.12, but you have joblib 1.0.1 which is incompatible.\n",
      "tensorflow-data-validation 0.21.5 requires pandas<1,>=0.24, but you have pandas 1.2.4 which is incompatible.\n",
      "tensorflow-data-validation 0.21.5 requires scikit-learn<0.22,>=0.18, but you have scikit-learn 0.24.2 which is incompatible.\n",
      "phik 0.11.2 requires scipy>=1.5.2, but you have scipy 1.4.1 which is incompatible.\n",
      "apache-beam 2.17.0 requires httplib2<=0.12.0,>=0.8, but you have httplib2 0.19.1 which is incompatible.\n",
      "apache-beam 2.17.0 requires pyarrow<0.16.0,>=0.15.1; python_version >= \"3.0\" or platform_system != \"Windows\", but you have pyarrow 4.0.0 which is incompatible.\u001b[0m\n",
      "Successfully installed astunparse-1.6.3 gast-0.3.3 keras-preprocessing-1.1.2 numpy-1.18.5 scipy-1.4.1 tensorflow-2.3.0 tensorflow-estimator-2.3.0\n"
     ]
    }
   ],
   "source": [
    "# Ensure the right version of Tensorflow is installed.\n",
    "!pip freeze | grep tensorflow==2.3 || pip install tensorflow==2.3"
   ]
  },
  {
   "cell_type": "markdown",
   "metadata": {},
   "source": [
    "Kindly ignore the deprecation warnings and incompatibility errors."
   ]
  },
  {
   "cell_type": "markdown",
   "metadata": {},
   "source": [
    "Start by importing the necessary libraries for this lab."
   ]
  },
  {
   "cell_type": "code",
   "execution_count": 3,
   "metadata": {},
   "outputs": [
    {
     "name": "stdout",
     "output_type": "stream",
     "text": [
      "2.3.0\n"
     ]
    }
   ],
   "source": [
    "import datetime\n",
    "import os\n",
    "import shutil\n",
    "\n",
    "import numpy as np\n",
    "import pandas as pd\n",
    "import tensorflow as tf\n",
    "\n",
    "from matplotlib import pyplot as plt\n",
    "from tensorflow import keras\n",
    "\n",
    "from tensorflow import feature_column as fc\n",
    "\n",
    "from tensorflow.keras import Model\n",
    "from tensorflow.keras.layers import (\n",
    "    Input, Dense, DenseFeatures, concatenate)\n",
    "from tensorflow.keras.callbacks import TensorBoard\n",
    "\n",
    "print(tf.__version__)"
   ]
  },
  {
   "cell_type": "code",
   "execution_count": 4,
   "metadata": {},
   "outputs": [],
   "source": [
    "%matplotlib inline"
   ]
  },
  {
   "cell_type": "markdown",
   "metadata": {},
   "source": [
    "## Load raw data \n",
    "\n",
    "We will use the taxifare dataset, using the CSV files that we created in the first notebook of this sequence. Those files have been saved into `../data`."
   ]
  },
  {
   "cell_type": "code",
   "execution_count": 5,
   "metadata": {},
   "outputs": [
    {
     "name": "stdout",
     "output_type": "stream",
     "text": [
      "-rw-r--r-- 1 jupyter jupyter 123590 May 24 03:53 ../data/taxi-test.csv\n",
      "-rw-r--r-- 1 jupyter jupyter 579055 May 24 03:53 ../data/taxi-train.csv\n",
      "-rw-r--r-- 1 jupyter jupyter 123114 May 24 03:53 ../data/taxi-valid.csv\n"
     ]
    }
   ],
   "source": [
    "!ls -l ../data/*.csv"
   ]
  },
  {
   "cell_type": "markdown",
   "metadata": {},
   "source": [
    "## Use tf.data to read the CSV files\n",
    "\n",
    "We wrote these functions for reading data from the csv files above in the [previous notebook](2_dataset_api.ipynb). For this lab we will also include some additional engineered features in our model. In particular, we will compute the difference in latitude and longitude, as well as the Euclidean distance between the pick-up and drop-off locations. We can accomplish this by adding these new features to the features dictionary with the function `add_engineered_features` below. \n",
    "\n",
    "Note that we include a call to this function when collecting our features dict and labels in the `features_and_labels` function below as well. "
   ]
  },
  {
   "cell_type": "code",
   "execution_count": 6,
   "metadata": {},
   "outputs": [],
   "source": [
    "CSV_COLUMNS = [\n",
    "    'fare_amount',\n",
    "    'pickup_datetime',\n",
    "    'pickup_longitude',\n",
    "    'pickup_latitude',\n",
    "    'dropoff_longitude',\n",
    "    'dropoff_latitude',\n",
    "    'passenger_count',\n",
    "    'key'\n",
    "]\n",
    "LABEL_COLUMN = 'fare_amount'\n",
    "DEFAULTS = [[0.0], ['na'], [0.0], [0.0], [0.0], [0.0], [0.0], ['na']]\n",
    "UNWANTED_COLS = ['pickup_datetime', 'key']\n",
    "\n",
    "\n",
    "def features_and_labels(row_data):\n",
    "    label = row_data.pop(LABEL_COLUMN)\n",
    "    features = row_data\n",
    "        \n",
    "    for unwanted_col in UNWANTED_COLS:\n",
    "        features.pop(unwanted_col)\n",
    "\n",
    "    return features, label\n",
    "\n",
    "\n",
    "def create_dataset(pattern, batch_size=1, mode='eval'):\n",
    "    dataset = tf.data.experimental.make_csv_dataset(\n",
    "        pattern, batch_size, CSV_COLUMNS, DEFAULTS)\n",
    "\n",
    "    dataset = dataset.map(features_and_labels)\n",
    "    \n",
    "    if mode == 'train':\n",
    "        dataset = dataset.shuffle(buffer_size=1000).repeat()\n",
    "\n",
    "    # take advantage of multi-threading; 1=AUTOTUNE\n",
    "    dataset = dataset.prefetch(1)\n",
    "    return dataset"
   ]
  },
  {
   "cell_type": "markdown",
   "metadata": {},
   "source": [
    "## Feature columns for Wide and Deep model\n",
    "\n",
    "For the Wide columns, we will create feature columns of crossed features. To do this, we'll create a collection of Tensorflow feature columns to pass to the `tf.feature_column.crossed_column` constructor. The Deep columns will consist of numeric columns and the embedding columns we want to create. "
   ]
  },
  {
   "cell_type": "markdown",
   "metadata": {},
   "source": [
    "**Lab Task #1:** In the cell below, create feature columns for our wide-and-deep model. You'll need to build \n",
    "1. bucketized columns using [tf.feature_column.bucketized_column](https://www.tensorflow.org/api_docs/python/tf/feature_column/bucketized_column) for the pickup and dropoff latitude and longitude,\n",
    "2. crossed columns using [tf.feature_column.crossed_column](https://www.tensorflow.org/api_docs/python/tf/feature_column/crossed_column) for those bucketized columns, and \n",
    "3. embedding columns using [tf.feature_column.embedding_column](https://www.tensorflow.org/api_docs/python/tf/feature_column/embedding_column) for the crossed columns."
   ]
  },
  {
   "cell_type": "code",
   "execution_count": 46,
   "metadata": {},
   "outputs": [],
   "source": [
    "# TODO 1\n",
    "\n",
    "# 1. Bucketize latitudes and longitudes\n",
    "NBUCKETS = 16\n",
    "latbuckets = np.linspace(start=38.0, stop=42.0, num=NBUCKETS).tolist()\n",
    "lonbuckets = np.linspace(start=-76.0, stop=-72.0, num=NBUCKETS).tolist()\n",
    "\n",
    "fc_bucketized_plat = fc.bucketized_column(\n",
    "    source_column=fc.numeric_column(\"pickup_longitude\"), boundaries=lonbuckets) # TODO: Your code goes here.\n",
    "fc_bucketized_plon = fc.bucketized_column(\n",
    "    source_column=fc.numeric_column(\"pickup_latitude\"), boundaries=latbuckets) # TODO: Your code goes here.\n",
    "fc_bucketized_dlat = fc.bucketized_column(\n",
    "    source_column=fc.numeric_column(\"dropoff_longitude\"), boundaries=lonbuckets) # TODO: Your code goes here.\n",
    "fc_bucketized_dlon = fc.bucketized_column(  \n",
    "    source_column=fc.numeric_column(\"dropoff_latitude\"), boundaries=latbuckets) # TODO: Your code goes here.\n",
    "\n",
    "# 2. Cross features for locations\n",
    "fc_crossed_dloc = fc.crossed_column(\n",
    "    [fc_bucketized_dlat, fc_bucketized_dlon],\n",
    "    hash_bucket_size=NBUCKETS * NBUCKETS) # TODO: Your code goes here.\n",
    "fc_crossed_ploc = fc.crossed_column(\n",
    "    [fc_bucketized_plat, fc_bucketized_plon],\n",
    "    hash_bucket_size=NBUCKETS * NBUCKETS) # TODO: Your code goes here.\n",
    "fc_crossed_pd_pair = fc.crossed_column(\n",
    "    [fc_crossed_dloc, fc_crossed_ploc],\n",
    "    hash_bucket_size=NBUCKETS * NBUCKETS) # TODO: Your code goes here.\n",
    "\n",
    "# 3. Create embedding columns for the crossed columns\n",
    "fc_pd_pair = fc.embedding_column(categorical_column=fc_crossed_pd_pair, dimension=3) # TODO: Your code goes here.\n",
    "fc_dloc = fc.embedding_column(categorical_column=fc_crossed_dloc, dimension=3) # TODO: Your code goes here.\n",
    "fc_ploc = fc.embedding_column(categorical_column=fc_crossed_ploc, dimension=3) # TODO: Your code goes here."
   ]
  },
  {
   "cell_type": "markdown",
   "metadata": {},
   "source": [
    "### Gather list of feature columns\n",
    "\n",
    "Next we gather the list of wide and deep feature columns we'll pass to our Wide & Deep model in Tensorflow. Recall, wide columns are sparse, have linear relationship with the output while continuous columns are deep, have a complex relationship with the output. We will use our previously bucketized columns to collect crossed feature columns and sparse feature columns for our wide columns, and embedding feature columns and numeric features columns for the deep columns."
   ]
  },
  {
   "cell_type": "markdown",
   "metadata": {},
   "source": [
    "**Lab Task #2:** Collect the wide and deep columns into two separate lists. You'll have two lists: One called `wide_columns` containing the one-hot encoded features from the crossed features and one called `deep_columns` which contains numeric and embedding feature columns."
   ]
  },
  {
   "cell_type": "code",
   "execution_count": 47,
   "metadata": {},
   "outputs": [],
   "source": [
    "# TODO 2\n",
    "wide_columns = [\n",
    "    fc.indicator_column(fc_crossed_dloc),\n",
    "    fc.indicator_column(fc_crossed_ploc),\n",
    "    fc.indicator_column(fc_crossed_pd_pair)\n",
    "    # One-hot encoded feature crosses\n",
    "    # TODO: Your code goes here.\n",
    "]\n",
    "\n",
    "deep_columns = [\n",
    "    # Embedding_column to \"group\" together ...\n",
    "    fc.embedding_column(fc_crossed_pd_pair, dimension=10),\n",
    "    # TODO: Your code goes here.\n",
    "\n",
    "    # Numeric columns\n",
    "    fc.numeric_column(\"pickup_latitude\"),\n",
    "    fc.numeric_column(\"pickup_longitude\"),\n",
    "    fc.numeric_column(\"dropoff_longitude\"),\n",
    "    fc.numeric_column(\"dropoff_latitude\")\n",
    "    # TODO: Your code goes here.\n",
    "]"
   ]
  },
  {
   "cell_type": "markdown",
   "metadata": {},
   "source": [
    "## Build a Wide and Deep model in Keras\n",
    "\n",
    "To build a wide-and-deep network, we connect the sparse (i.e. wide) features directly to the output node, but pass the dense (i.e. deep) features through a set of fully connected layers. Here’s that model architecture looks using the Functional API.\n",
    "\n",
    "First, we'll create our input columns using [tf.keras.layers.Input](https://www.tensorflow.org/versions/r2.0/api_docs/python/tf/keras/Input)."
   ]
  },
  {
   "cell_type": "code",
   "execution_count": 48,
   "metadata": {},
   "outputs": [],
   "source": [
    "INPUT_COLS = [\n",
    "    'pickup_longitude',\n",
    "    'pickup_latitude',\n",
    "    'dropoff_longitude',\n",
    "    'dropoff_latitude',\n",
    "    'passenger_count'\n",
    "]\n",
    "\n",
    "inputs = {colname : Input(name=colname, shape=(), dtype='float32')\n",
    "          for colname in INPUT_COLS\n",
    "}"
   ]
  },
  {
   "cell_type": "markdown",
   "metadata": {},
   "source": [
    "Then, we'll define our custom RMSE evaluation metric and build our wide and deep model."
   ]
  },
  {
   "cell_type": "markdown",
   "metadata": {},
   "source": [
    "**Lab Task #3:** Complete the code in the function `build_model` below so that it returns a compiled Keras model. The argument `dnn_hidden_units` should represent the number of units in each layer of your network. Use the Functional API to build a wide-and-deep model. Use the `deep_columns` you created above to build the deep layers and the `wide_columns` to create the wide layers. Once you have the wide and deep components, you will combine them to feed to a final fully connected layer. "
   ]
  },
  {
   "cell_type": "code",
   "execution_count": 49,
   "metadata": {},
   "outputs": [],
   "source": [
    "def rmse(y_true, y_pred):\n",
    "    return tf.sqrt(tf.reduce_mean(tf.square(y_pred - y_true)))\n",
    "\n",
    "# TODO 3\n",
    "def build_model(dnn_hidden_units):\n",
    "    # Create the deep part of model\n",
    "    deep = DenseFeatures(deep_columns, name='deep_inputs')(inputs) # TODO: Your code goes here.\n",
    "    for num_nodes in dnn_hidden_units:\n",
    "        deep = Dense(num_nodes, activation='relu')(deep)\n",
    "        \n",
    "    # Create the wide part of model\n",
    "    wide = DenseFeatures(wide_columns, name='wide_inputs')(inputs) # TODO: Your code goes here.\n",
    "\n",
    "    # Combine deep and wide parts of the model\n",
    "    combined = concatenate(inputs=[deep, wide], name='combined') # TODO: Your code goes here.\n",
    "\n",
    "    # Map the combined outputs into a single prediction value\n",
    "    output = Dense(1, activation=None, name='prediction')(combined) # TODO: Your code goes here.\n",
    "    \n",
    "    # Finalize the model\n",
    "    model = Model(inputs=list(inputs.values()), outputs=output) # TODO: Your code goes here.\n",
    "\n",
    "    # Compile the keras model\n",
    "    model.compile(optimizer=\"adam\", loss=\"mse\", metrics=[rmse, \"mse\"]) # TODO: Your code goes here.\n",
    "    \n",
    "    return model"
   ]
  },
  {
   "cell_type": "markdown",
   "metadata": {},
   "source": [
    "Next, we can call the `build_model` to create the model. Here we'll have two hidden layers, each with 10 neurons, for the deep part of our model. We can also use `plot_model` to see a diagram of the model we've created."
   ]
  },
  {
   "cell_type": "code",
   "execution_count": 75,
   "metadata": {},
   "outputs": [
    {
     "data": {
      "image/png": "[encoded data removed]",
      "text/plain": [
       "<IPython.core.display.Image object>"
      ]
     },
     "execution_count": 75,
     "metadata": {},
     "output_type": "execute_result"
    }
   ],
   "source": [
    "HIDDEN_UNITS = [20,20]\n",
    "\n",
    "model = build_model(dnn_hidden_units=HIDDEN_UNITS)\n",
    "\n",
    "tf.keras.utils.plot_model(model, show_shapes=False, rankdir='LR')"
   ]
  },
  {
   "cell_type": "markdown",
   "metadata": {},
   "source": [
    "Next, we'll set up our training variables, create our datasets for training and validation, and train our model.\n",
    "\n",
    "(We refer you the the blog post [ML Design Pattern #3: Virtual Epochs](https://medium.com/google-cloud/ml-design-pattern-3-virtual-epochs-f842296de730) for further details on why express the training in terms of `NUM_TRAIN_EXAMPLES` and `NUM_EVALS` and why, in this training code, the number of epochs is really equal to the number of evaluations we perform.)"
   ]
  },
  {
   "cell_type": "code",
   "execution_count": 82,
   "metadata": {},
   "outputs": [],
   "source": [
    "BATCH_SIZE = 100\n",
    "NUM_TRAIN_EXAMPLES = 10000 * 5  # training dataset will repeat, wrap around\n",
    "NUM_EVALS = 100  # how many times to evaluate\n",
    "NUM_EVAL_EXAMPLES = 10000  # enough to get a reasonable sample\n",
    "\n",
    "trainds = create_dataset(\n",
    "    pattern='../data/taxi-train*',\n",
    "    batch_size=BATCH_SIZE,\n",
    "    mode='train')\n",
    "\n",
    "evalds = create_dataset(\n",
    "    pattern='../data/taxi-valid*',\n",
    "    batch_size=BATCH_SIZE,\n",
    "    mode='eval').take(NUM_EVAL_EXAMPLES//1000)"
   ]
  },
  {
   "cell_type": "code",
   "execution_count": 83,
   "metadata": {},
   "outputs": [
    {
     "name": "stdout",
     "output_type": "stream",
     "text": [
      "Epoch 1/100\n",
      "2/5 [===========>..................] - ETA: 0s - loss: 62.2593 - rmse: 7.8318 - mse: 62.2593WARNING:tensorflow:Callbacks method `on_train_batch_end` is slow compared to the batch time (batch time: 0.0058s vs `on_train_batch_end` time: 0.0635s). Check your callbacks.\n",
      "5/5 [==============================] - 0s 56ms/step - loss: 91.2837 - rmse: 9.4427 - mse: 91.2837 - val_loss: 80.6180 - val_rmse: 8.8710 - val_mse: 80.6180\n",
      "Epoch 2/100\n",
      "5/5 [==============================] - 0s 33ms/step - loss: 66.5608 - rmse: 8.0792 - mse: 66.5608 - val_loss: 106.5655 - val_rmse: 10.1057 - val_mse: 106.5655\n",
      "Epoch 3/100\n",
      "5/5 [==============================] - 0s 32ms/step - loss: 72.5130 - rmse: 8.4671 - mse: 72.5130 - val_loss: 73.9105 - val_rmse: 8.5459 - val_mse: 73.9105\n",
      "Epoch 4/100\n",
      "5/5 [==============================] - 0s 33ms/step - loss: 75.4531 - rmse: 8.5746 - mse: 75.4531 - val_loss: 101.9727 - val_rmse: 9.8317 - val_mse: 101.9727\n",
      "Epoch 5/100\n",
      "5/5 [==============================] - 0s 35ms/step - loss: 77.3300 - rmse: 8.6516 - mse: 77.3300 - val_loss: 101.8550 - val_rmse: 9.8727 - val_mse: 101.8550\n",
      "Epoch 6/100\n",
      "5/5 [==============================] - 0s 36ms/step - loss: 115.9404 - rmse: 10.5938 - mse: 115.9404 - val_loss: 98.1833 - val_rmse: 9.5790 - val_mse: 98.1833\n",
      "Epoch 7/100\n",
      "5/5 [==============================] - 0s 33ms/step - loss: 58.9479 - rmse: 7.6386 - mse: 58.9479 - val_loss: 101.0448 - val_rmse: 9.9436 - val_mse: 101.0448\n",
      "Epoch 8/100\n",
      "5/5 [==============================] - 0s 49ms/step - loss: 137.0266 - rmse: 10.9666 - mse: 137.0266 - val_loss: 79.2660 - val_rmse: 8.7318 - val_mse: 79.2660\n",
      "Epoch 9/100\n",
      "5/5 [==============================] - 0s 44ms/step - loss: 74.1238 - rmse: 8.4489 - mse: 74.1238 - val_loss: 100.2602 - val_rmse: 9.7309 - val_mse: 100.2602\n",
      "Epoch 10/100\n",
      "5/5 [==============================] - 0s 33ms/step - loss: 66.8352 - rmse: 8.0592 - mse: 66.8351 - val_loss: 84.8715 - val_rmse: 8.8978 - val_mse: 84.8715\n",
      "Epoch 11/100\n",
      "5/5 [==============================] - 0s 32ms/step - loss: 58.9358 - rmse: 7.5329 - mse: 58.9358 - val_loss: 71.1478 - val_rmse: 8.3025 - val_mse: 71.1478\n",
      "Epoch 12/100\n",
      "5/5 [==============================] - 0s 30ms/step - loss: 83.2566 - rmse: 8.9770 - mse: 83.2566 - val_loss: 70.3016 - val_rmse: 8.2557 - val_mse: 70.3016\n",
      "Epoch 13/100\n",
      "5/5 [==============================] - 0s 29ms/step - loss: 136.8378 - rmse: 10.9876 - mse: 136.8378 - val_loss: 96.2833 - val_rmse: 9.3196 - val_mse: 96.2833\n",
      "Epoch 14/100\n",
      "5/5 [==============================] - 0s 30ms/step - loss: 53.2881 - rmse: 7.2475 - mse: 53.2881 - val_loss: 68.3378 - val_rmse: 8.1404 - val_mse: 68.3378\n",
      "Epoch 15/100\n",
      "5/5 [==============================] - 0s 29ms/step - loss: 58.9190 - rmse: 7.6595 - mse: 58.9190 - val_loss: 71.8179 - val_rmse: 8.3110 - val_mse: 71.8179\n",
      "Epoch 16/100\n",
      "5/5 [==============================] - 0s 38ms/step - loss: 147.5567 - rmse: 11.2839 - mse: 147.5567 - val_loss: 73.8397 - val_rmse: 8.4363 - val_mse: 73.8397\n",
      "Epoch 17/100\n",
      "5/5 [==============================] - 0s 35ms/step - loss: 64.0590 - rmse: 7.8271 - mse: 64.0590 - val_loss: 91.5176 - val_rmse: 9.4230 - val_mse: 91.5176\n",
      "Epoch 18/100\n",
      "5/5 [==============================] - 0s 30ms/step - loss: 112.4861 - rmse: 9.6842 - mse: 112.4861 - val_loss: 88.2378 - val_rmse: 9.2590 - val_mse: 88.2378\n",
      "Epoch 19/100\n",
      "5/5 [==============================] - 0s 30ms/step - loss: 50.5138 - rmse: 7.0044 - mse: 50.5138 - val_loss: 77.1537 - val_rmse: 8.6943 - val_mse: 77.1537\n",
      "Epoch 20/100\n",
      "5/5 [==============================] - 0s 30ms/step - loss: 67.5762 - rmse: 8.1042 - mse: 67.5762 - val_loss: 69.3898 - val_rmse: 8.1186 - val_mse: 69.3898\n",
      "Epoch 21/100\n",
      "5/5 [==============================] - 0s 30ms/step - loss: 71.4891 - rmse: 8.4135 - mse: 71.4891 - val_loss: 64.2966 - val_rmse: 7.7813 - val_mse: 64.2966\n",
      "Epoch 22/100\n",
      "5/5 [==============================] - 0s 30ms/step - loss: 59.8058 - rmse: 7.6951 - mse: 59.8058 - val_loss: 79.1275 - val_rmse: 8.7055 - val_mse: 79.1275\n",
      "Epoch 23/100\n",
      "5/5 [==============================] - 0s 29ms/step - loss: 51.9168 - rmse: 7.1690 - mse: 51.9168 - val_loss: 70.6135 - val_rmse: 8.2665 - val_mse: 70.6135\n",
      "Epoch 24/100\n",
      "5/5 [==============================] - 0s 40ms/step - loss: 116.3572 - rmse: 9.9197 - mse: 116.3572 - val_loss: 85.3563 - val_rmse: 8.9941 - val_mse: 85.3563\n",
      "Epoch 25/100\n",
      "5/5 [==============================] - 0s 30ms/step - loss: 52.7820 - rmse: 7.1961 - mse: 52.7820 - val_loss: 75.0619 - val_rmse: 8.3864 - val_mse: 75.0619\n",
      "Epoch 26/100\n",
      "5/5 [==============================] - 0s 29ms/step - loss: 55.2061 - rmse: 7.2216 - mse: 55.2061 - val_loss: 82.6115 - val_rmse: 8.8049 - val_mse: 82.6115\n",
      "Epoch 27/100\n",
      "5/5 [==============================] - 0s 30ms/step - loss: 79.2498 - rmse: 8.6938 - mse: 79.2498 - val_loss: 75.2845 - val_rmse: 8.4324 - val_mse: 75.2845\n",
      "Epoch 28/100\n",
      "5/5 [==============================] - 0s 32ms/step - loss: 65.3701 - rmse: 7.9225 - mse: 65.3701 - val_loss: 62.6068 - val_rmse: 7.7670 - val_mse: 62.6068\n",
      "Epoch 29/100\n",
      "5/5 [==============================] - 0s 32ms/step - loss: 52.1072 - rmse: 7.1317 - mse: 52.1072 - val_loss: 50.5194 - val_rmse: 7.0072 - val_mse: 50.5194\n",
      "Epoch 30/100\n",
      "5/5 [==============================] - 0s 29ms/step - loss: 65.0887 - rmse: 8.0501 - mse: 65.0887 - val_loss: 69.0775 - val_rmse: 8.1889 - val_mse: 69.0775\n",
      "Epoch 31/100\n",
      "5/5 [==============================] - 0s 34ms/step - loss: 54.0669 - rmse: 7.3297 - mse: 54.0669 - val_loss: 69.1582 - val_rmse: 8.1003 - val_mse: 69.1582\n",
      "Epoch 32/100\n",
      "5/5 [==============================] - 0s 41ms/step - loss: 36.3170 - rmse: 5.9849 - mse: 36.3170 - val_loss: 58.9324 - val_rmse: 7.5562 - val_mse: 58.9324\n",
      "Epoch 33/100\n",
      "5/5 [==============================] - 0s 43ms/step - loss: 43.2690 - rmse: 6.5368 - mse: 43.2690 - val_loss: 79.9239 - val_rmse: 8.6327 - val_mse: 79.9239\n",
      "Epoch 34/100\n",
      "5/5 [==============================] - 0s 40ms/step - loss: 47.8434 - rmse: 6.8334 - mse: 47.8434 - val_loss: 71.3699 - val_rmse: 8.2263 - val_mse: 71.3699\n",
      "Epoch 35/100\n",
      "5/5 [==============================] - 0s 34ms/step - loss: 57.6561 - rmse: 7.4977 - mse: 57.6561 - val_loss: 59.2307 - val_rmse: 7.5363 - val_mse: 59.2307\n",
      "Epoch 36/100\n",
      "5/5 [==============================] - 0s 34ms/step - loss: 47.6844 - rmse: 6.8974 - mse: 47.6844 - val_loss: 65.1657 - val_rmse: 7.8919 - val_mse: 65.1657\n",
      "Epoch 37/100\n",
      "5/5 [==============================] - 0s 32ms/step - loss: 44.8427 - rmse: 6.6239 - mse: 44.8427 - val_loss: 68.6780 - val_rmse: 8.0113 - val_mse: 68.6780\n",
      "Epoch 38/100\n",
      "5/5 [==============================] - 0s 35ms/step - loss: 39.2558 - rmse: 6.2190 - mse: 39.2558 - val_loss: 64.3792 - val_rmse: 7.7896 - val_mse: 64.3792\n",
      "Epoch 39/100\n",
      "5/5 [==============================] - 0s 41ms/step - loss: 45.0658 - rmse: 6.5418 - mse: 45.0658 - val_loss: 66.1230 - val_rmse: 7.9664 - val_mse: 66.1230\n",
      "Epoch 40/100\n",
      "5/5 [==============================] - 0s 45ms/step - loss: 44.8784 - rmse: 6.6006 - mse: 44.8784 - val_loss: 74.8441 - val_rmse: 8.3969 - val_mse: 74.8441\n",
      "Epoch 41/100\n",
      "5/5 [==============================] - 0s 47ms/step - loss: 60.2704 - rmse: 7.7132 - mse: 60.2704 - val_loss: 62.4681 - val_rmse: 7.7294 - val_mse: 62.4681\n",
      "Epoch 42/100\n",
      "5/5 [==============================] - 0s 40ms/step - loss: 51.0042 - rmse: 7.0636 - mse: 51.0042 - val_loss: 70.6719 - val_rmse: 8.2725 - val_mse: 70.6720\n",
      "Epoch 43/100\n",
      "5/5 [==============================] - 0s 29ms/step - loss: 55.1851 - rmse: 7.3200 - mse: 55.1851 - val_loss: 57.2744 - val_rmse: 7.4084 - val_mse: 57.2744\n",
      "Epoch 44/100\n",
      "5/5 [==============================] - 0s 30ms/step - loss: 51.7751 - rmse: 7.0700 - mse: 51.7751 - val_loss: 65.1299 - val_rmse: 7.8860 - val_mse: 65.1299\n",
      "Epoch 45/100\n",
      "5/5 [==============================] - 0s 29ms/step - loss: 52.3041 - rmse: 7.1886 - mse: 52.3041 - val_loss: 68.7568 - val_rmse: 7.9948 - val_mse: 68.7568\n",
      "Epoch 46/100\n",
      "5/5 [==============================] - 0s 29ms/step - loss: 53.4284 - rmse: 7.2346 - mse: 53.4284 - val_loss: 69.9450 - val_rmse: 8.0625 - val_mse: 69.9450\n",
      "Epoch 47/100\n",
      "5/5 [==============================] - 0s 31ms/step - loss: 92.6998 - rmse: 8.4367 - mse: 92.6998 - val_loss: 49.0078 - val_rmse: 6.8001 - val_mse: 49.0078\n",
      "Epoch 48/100\n",
      "5/5 [==============================] - 0s 34ms/step - loss: 48.1862 - rmse: 6.9108 - mse: 48.1862 - val_loss: 63.6942 - val_rmse: 7.6142 - val_mse: 63.6942\n",
      "Epoch 49/100\n",
      "5/5 [==============================] - 0s 30ms/step - loss: 62.7518 - rmse: 7.6418 - mse: 62.7518 - val_loss: 73.4116 - val_rmse: 8.2029 - val_mse: 73.4116\n",
      "Epoch 50/100\n",
      "5/5 [==============================] - 0s 32ms/step - loss: 48.7993 - rmse: 6.8566 - mse: 48.7993 - val_loss: 63.4503 - val_rmse: 7.6262 - val_mse: 63.4503\n",
      "Epoch 51/100\n",
      "5/5 [==============================] - 0s 31ms/step - loss: 39.3335 - rmse: 6.2468 - mse: 39.3335 - val_loss: 73.0147 - val_rmse: 8.1376 - val_mse: 73.0147\n",
      "Epoch 52/100\n",
      "5/5 [==============================] - 0s 31ms/step - loss: 54.4857 - rmse: 7.2349 - mse: 54.4857 - val_loss: 61.3255 - val_rmse: 7.6215 - val_mse: 61.3255\n",
      "Epoch 53/100\n",
      "5/5 [==============================] - 0s 31ms/step - loss: 40.9142 - rmse: 6.3089 - mse: 40.9142 - val_loss: 65.8404 - val_rmse: 7.8676 - val_mse: 65.8404\n",
      "Epoch 54/100\n",
      "5/5 [==============================] - 0s 30ms/step - loss: 47.4658 - rmse: 6.7547 - mse: 47.4658 - val_loss: 45.7851 - val_rmse: 6.6633 - val_mse: 45.7851\n",
      "Epoch 55/100\n",
      "5/5 [==============================] - 0s 31ms/step - loss: 48.2650 - rmse: 6.8335 - mse: 48.2650 - val_loss: 68.0383 - val_rmse: 7.9500 - val_mse: 68.0383\n",
      "Epoch 56/100\n",
      "5/5 [==============================] - 0s 37ms/step - loss: 97.0736 - rmse: 8.6575 - mse: 97.0736 - val_loss: 67.1055 - val_rmse: 7.9450 - val_mse: 67.1055\n",
      "Epoch 57/100\n",
      "5/5 [==============================] - 0s 31ms/step - loss: 99.1639 - rmse: 8.8554 - mse: 99.1639 - val_loss: 64.2490 - val_rmse: 7.7457 - val_mse: 64.2491\n",
      "Epoch 58/100\n",
      "5/5 [==============================] - 0s 30ms/step - loss: 41.4677 - rmse: 6.3964 - mse: 41.4677 - val_loss: 64.6768 - val_rmse: 7.7567 - val_mse: 64.6768\n",
      "Epoch 59/100\n",
      "5/5 [==============================] - 0s 29ms/step - loss: 43.2701 - rmse: 6.5371 - mse: 43.2701 - val_loss: 70.6567 - val_rmse: 8.1594 - val_mse: 70.6567\n",
      "Epoch 60/100\n",
      "5/5 [==============================] - 0s 31ms/step - loss: 54.4966 - rmse: 7.3196 - mse: 54.4966 - val_loss: 64.0133 - val_rmse: 7.8025 - val_mse: 64.0133\n",
      "Epoch 61/100\n",
      "5/5 [==============================] - 0s 30ms/step - loss: 75.7164 - rmse: 8.5068 - mse: 75.7164 - val_loss: 52.7993 - val_rmse: 7.0978 - val_mse: 52.7993\n",
      "Epoch 62/100\n",
      "5/5 [==============================] - 0s 29ms/step - loss: 111.4357 - rmse: 9.7496 - mse: 111.4357 - val_loss: 66.0690 - val_rmse: 7.8913 - val_mse: 66.0690\n",
      "Epoch 63/100\n",
      "5/5 [==============================] - 0s 35ms/step - loss: 62.6035 - rmse: 7.8617 - mse: 62.6035 - val_loss: 57.3128 - val_rmse: 7.3428 - val_mse: 57.3128\n",
      "Epoch 64/100\n",
      "5/5 [==============================] - 0s 36ms/step - loss: 69.9059 - rmse: 8.2366 - mse: 69.9059 - val_loss: 55.9751 - val_rmse: 7.2935 - val_mse: 55.9751\n",
      "Epoch 65/100\n",
      "5/5 [==============================] - 0s 36ms/step - loss: 55.0470 - rmse: 7.2662 - mse: 55.0470 - val_loss: 59.6076 - val_rmse: 7.6007 - val_mse: 59.6076\n",
      "Epoch 66/100\n",
      "5/5 [==============================] - 0s 37ms/step - loss: 43.8569 - rmse: 6.5506 - mse: 43.8569 - val_loss: 58.3806 - val_rmse: 7.4462 - val_mse: 58.3806\n",
      "Epoch 67/100\n",
      "5/5 [==============================] - 0s 40ms/step - loss: 66.8810 - rmse: 8.1035 - mse: 66.8810 - val_loss: 55.4120 - val_rmse: 7.3766 - val_mse: 55.4120\n",
      "Epoch 68/100\n",
      "5/5 [==============================] - 0s 38ms/step - loss: 45.7828 - rmse: 6.5302 - mse: 45.7828 - val_loss: 64.1201 - val_rmse: 7.6501 - val_mse: 64.1201\n",
      "Epoch 69/100\n",
      "5/5 [==============================] - 0s 35ms/step - loss: 47.1984 - rmse: 6.7191 - mse: 47.1984 - val_loss: 52.3975 - val_rmse: 7.0801 - val_mse: 52.3975\n",
      "Epoch 70/100\n",
      "5/5 [==============================] - 0s 32ms/step - loss: 50.9861 - rmse: 6.9817 - mse: 50.9861 - val_loss: 65.6183 - val_rmse: 7.8991 - val_mse: 65.6183\n",
      "Epoch 71/100\n",
      "5/5 [==============================] - 0s 40ms/step - loss: 52.7104 - rmse: 7.2203 - mse: 52.7104 - val_loss: 62.2773 - val_rmse: 7.6445 - val_mse: 62.2773\n",
      "Epoch 72/100\n",
      "5/5 [==============================] - 0s 45ms/step - loss: 41.8596 - rmse: 6.4419 - mse: 41.8596 - val_loss: 55.1697 - val_rmse: 7.2371 - val_mse: 55.1697\n",
      "Epoch 73/100\n",
      "5/5 [==============================] - 0s 35ms/step - loss: 60.4810 - rmse: 7.6390 - mse: 60.4810 - val_loss: 49.3658 - val_rmse: 6.9119 - val_mse: 49.3658\n",
      "Epoch 74/100\n",
      "5/5 [==============================] - 0s 34ms/step - loss: 61.8450 - rmse: 7.6708 - mse: 61.8450 - val_loss: 61.6933 - val_rmse: 7.6651 - val_mse: 61.6933\n",
      "Epoch 75/100\n",
      "5/5 [==============================] - 0s 37ms/step - loss: 63.8483 - rmse: 7.8659 - mse: 63.8483 - val_loss: 52.0378 - val_rmse: 7.0233 - val_mse: 52.0378\n",
      "Epoch 76/100\n",
      "5/5 [==============================] - 0s 30ms/step - loss: 46.8840 - rmse: 6.7442 - mse: 46.8840 - val_loss: 64.1763 - val_rmse: 7.7328 - val_mse: 64.1763\n",
      "Epoch 77/100\n",
      "5/5 [==============================] - 0s 30ms/step - loss: 42.2547 - rmse: 6.4359 - mse: 42.2547 - val_loss: 56.5606 - val_rmse: 7.2678 - val_mse: 56.5606\n",
      "Epoch 78/100\n",
      "5/5 [==============================] - 0s 30ms/step - loss: 121.0740 - rmse: 9.8827 - mse: 121.0740 - val_loss: 63.2587 - val_rmse: 7.7438 - val_mse: 63.2587\n",
      "Epoch 79/100\n",
      "5/5 [==============================] - 0s 31ms/step - loss: 47.0223 - rmse: 6.7788 - mse: 47.0223 - val_loss: 48.9996 - val_rmse: 6.7814 - val_mse: 48.9996\n",
      "Epoch 80/100\n",
      "5/5 [==============================] - 0s 33ms/step - loss: 72.2168 - rmse: 8.0828 - mse: 72.2168 - val_loss: 60.6416 - val_rmse: 7.4583 - val_mse: 60.6416\n",
      "Epoch 81/100\n",
      "5/5 [==============================] - 0s 30ms/step - loss: 49.6318 - rmse: 6.9680 - mse: 49.6318 - val_loss: 58.5746 - val_rmse: 7.3369 - val_mse: 58.5746\n",
      "Epoch 82/100\n",
      "5/5 [==============================] - 0s 29ms/step - loss: 37.3705 - rmse: 6.0996 - mse: 37.3705 - val_loss: 60.9534 - val_rmse: 7.5991 - val_mse: 60.9534\n",
      "Epoch 83/100\n",
      "5/5 [==============================] - 0s 39ms/step - loss: 31.3544 - rmse: 5.5482 - mse: 31.3544 - val_loss: 63.6734 - val_rmse: 7.6335 - val_mse: 63.6734\n",
      "Epoch 84/100\n",
      "5/5 [==============================] - 0s 34ms/step - loss: 51.5013 - rmse: 7.0697 - mse: 51.5013 - val_loss: 65.4882 - val_rmse: 7.7455 - val_mse: 65.4882\n",
      "Epoch 85/100\n",
      "5/5 [==============================] - 0s 31ms/step - loss: 50.0841 - rmse: 6.9344 - mse: 50.0841 - val_loss: 58.0500 - val_rmse: 7.4038 - val_mse: 58.0500\n",
      "Epoch 86/100\n",
      "5/5 [==============================] - 0s 28ms/step - loss: 44.1140 - rmse: 6.6091 - mse: 44.1140 - val_loss: 52.0380 - val_rmse: 6.9715 - val_mse: 52.0380\n",
      "Epoch 87/100\n",
      "5/5 [==============================] - 0s 29ms/step - loss: 57.4764 - rmse: 7.4282 - mse: 57.4764 - val_loss: 60.6902 - val_rmse: 7.6153 - val_mse: 60.6902\n",
      "Epoch 88/100\n",
      "5/5 [==============================] - 0s 33ms/step - loss: 43.4315 - rmse: 6.5481 - mse: 43.4315 - val_loss: 54.0873 - val_rmse: 7.1850 - val_mse: 54.0873\n",
      "Epoch 89/100\n",
      "5/5 [==============================] - 0s 30ms/step - loss: 110.9915 - rmse: 9.5592 - mse: 110.9915 - val_loss: 64.3490 - val_rmse: 7.6436 - val_mse: 64.3490\n",
      "Epoch 90/100\n",
      "5/5 [==============================] - 0s 32ms/step - loss: 63.4581 - rmse: 7.6762 - mse: 63.4581 - val_loss: 68.0848 - val_rmse: 7.9796 - val_mse: 68.0848\n",
      "Epoch 91/100\n",
      "5/5 [==============================] - 0s 35ms/step - loss: 55.4678 - rmse: 7.2979 - mse: 55.4678 - val_loss: 60.7583 - val_rmse: 7.5718 - val_mse: 60.7583\n",
      "Epoch 92/100\n",
      "5/5 [==============================] - 0s 30ms/step - loss: 43.9538 - rmse: 6.6028 - mse: 43.9538 - val_loss: 66.0397 - val_rmse: 7.7881 - val_mse: 66.0397\n",
      "Epoch 93/100\n",
      "5/5 [==============================] - 0s 29ms/step - loss: 41.9343 - rmse: 6.3321 - mse: 41.9343 - val_loss: 61.0059 - val_rmse: 7.3985 - val_mse: 61.0059\n",
      "Epoch 94/100\n",
      "5/5 [==============================] - 0s 30ms/step - loss: 42.9889 - rmse: 6.5460 - mse: 42.9889 - val_loss: 67.9554 - val_rmse: 7.9379 - val_mse: 67.9554\n",
      "Epoch 95/100\n",
      "5/5 [==============================] - 0s 31ms/step - loss: 45.7482 - rmse: 6.7469 - mse: 45.7482 - val_loss: 42.0048 - val_rmse: 6.3879 - val_mse: 42.0048\n",
      "Epoch 96/100\n",
      "5/5 [==============================] - 0s 36ms/step - loss: 59.4835 - rmse: 7.4622 - mse: 59.4835 - val_loss: 57.1677 - val_rmse: 7.3533 - val_mse: 57.1677\n",
      "Epoch 97/100\n",
      "5/5 [==============================] - 0s 29ms/step - loss: 97.6592 - rmse: 8.9252 - mse: 97.6592 - val_loss: 48.9111 - val_rmse: 6.8692 - val_mse: 48.9111\n",
      "Epoch 98/100\n",
      "5/5 [==============================] - 0s 36ms/step - loss: 36.5783 - rmse: 6.0362 - mse: 36.5783 - val_loss: 50.9426 - val_rmse: 7.0610 - val_mse: 50.9426\n",
      "Epoch 99/100\n",
      "5/5 [==============================] - 0s 45ms/step - loss: 63.9186 - rmse: 7.9062 - mse: 63.9186 - val_loss: 57.1061 - val_rmse: 7.2792 - val_mse: 57.1061\n",
      "Epoch 100/100\n",
      "5/5 [==============================] - 0s 36ms/step - loss: 38.2759 - rmse: 6.1301 - mse: 38.2759 - val_loss: 59.1588 - val_rmse: 7.3150 - val_mse: 59.1588\n",
      "CPU times: user 25.9 s, sys: 4.23 s, total: 30.1 s\n",
      "Wall time: 19.9 s\n"
     ]
    }
   ],
   "source": [
    "%%time\n",
    "steps_per_epoch = NUM_TRAIN_EXAMPLES // (BATCH_SIZE * NUM_EVALS)\n",
    "\n",
    "OUTDIR = \"./taxi_trained\"\n",
    "shutil.rmtree(path=OUTDIR, ignore_errors=True) # start fresh each time\n",
    "\n",
    "history = model.fit(x=trainds,\n",
    "                    steps_per_epoch=steps_per_epoch,\n",
    "                    epochs=NUM_EVALS,\n",
    "                    validation_data=evalds,\n",
    "                    callbacks=[TensorBoard(OUTDIR)])"
   ]
  },
  {
   "cell_type": "markdown",
   "metadata": {},
   "source": [
    "Just as before, we can examine the history to see how the RMSE changes through training on the train set and validation set. "
   ]
  },
  {
   "cell_type": "code",
   "execution_count": 84,
   "metadata": {},
   "outputs": [
    {
     "data": {
      "text/plain": [
       "<AxesSubplot:>"
      ]
     },
     "execution_count": 84,
     "metadata": {},
     "output_type": "execute_result"
    },
    {
     "data": {
      "image/png": "[encoded data removed]",
      "text/plain": [
       "<Figure size 432x288 with 1 Axes>"
      ]
     },
     "metadata": {
      "needs_background": "light"
     },
     "output_type": "display_data"
    }
   ],
   "source": [
    "RMSE_COLS = ['rmse', 'val_rmse']\n",
    "\n",
    "pd.DataFrame(history.history)[RMSE_COLS].plot()"
   ]
  },
  {
   "cell_type": "markdown",
   "metadata": {},
   "source": [
    "Copyright 2019 Google Inc. Licensed under the Apache License, Version 2.0 (the \"License\"); you may not use this file except in compliance with the License. You may obtain a copy of the License at http://www.apache.org/licenses/LICENSE-2.0 Unless required by applicable law or agreed to in writing, software distributed under the License is distributed on an \"AS IS\" BASIS, WITHOUT WARRANTIES OR CONDITIONS OF ANY KIND, either express or implied. See the License for the specific language governing permissions and limitations under the License"
   ]
  }
 ],
 "metadata": {
  "environment": {
   "name": "tf2-gpu.2-1.m69",
   "type": "gcloud",
   "uri": "gcr.io/deeplearning-platform-release/tf2-gpu.2-1:m69"
  },
  "kernelspec": {
   "display_name": "Python 3",
   "language": "python",
   "name": "python3"
  },
  "language_info": {
   "codemirror_mode": {
    "name": "ipython",
    "version": 3
   },
   "file_extension": ".py",
   "mimetype": "text/x-python",
   "name": "python",
   "nbconvert_exporter": "python",
   "pygments_lexer": "ipython3",
   "version": "3.7.10"
  }
 },
 "nbformat": 4,
 "nbformat_minor": 4
}
