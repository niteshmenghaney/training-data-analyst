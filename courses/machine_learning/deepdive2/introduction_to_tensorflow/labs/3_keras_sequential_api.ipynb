{
 "cells": [
  {
   "cell_type": "markdown",
   "metadata": {},
   "source": [
    "# Introducing the Keras Sequential API\n",
    "\n",
    "**Learning Objectives**\n",
    "  1. Learn how to use feature columns in a Keras model\n",
    "  1. Build a DNN model using the Keras Sequential API\n",
    "  1. Learn how to train a model with Keras\n",
    "  1. Learn how to save/load, and deploy a Keras model on GCP\n",
    "  1. Learn how to deploy and make predictions with at Keras model\n",
    "\n",
    "## Introduction\n",
    "\n",
    "The [Keras sequential API](https://keras.io/models/sequential/) allows you to create Tensorflow models layer-by-layer. This is useful for building most kinds of machine learning models but it does not allow you to create models that share layers, re-use layers or have multiple inputs or outputs. \n",
    "\n",
    "In this lab, we'll see how to build a simple deep neural network model using the keras sequential api and feature columns. Once we have trained our model, we will deploy it using AI Platform and see how to call our model for online prediciton.\n",
    "\n",
    "Each learning objective will correspond to a __#TODO__  in this student lab notebook -- try to complete this notebook first and then review the [solution notebook](https://github.com/GoogleCloudPlatform/training-data-analyst/blob/master/courses/machine_learning/deepdive2/introduction_to_tensorflow/solutions/3_keras_sequential_api.ipynb)\n"
   ]
  },
  {
   "cell_type": "code",
   "execution_count": 1,
   "metadata": {},
   "outputs": [],
   "source": [
    "!sudo chown -R jupyter:jupyter /home/jupyter/training-data-analyst"
   ]
  },
  {
   "cell_type": "markdown",
   "metadata": {},
   "source": [
    "Please ignore any incompatibility warnings and errors and re-run the cell to view the installed tensorflow version.\n"
   ]
  },
  {
   "cell_type": "markdown",
   "metadata": {},
   "source": [
    "Start by importing the necessary libraries for this lab."
   ]
  },
  {
   "cell_type": "code",
   "execution_count": 2,
   "metadata": {},
   "outputs": [
    {
     "name": "stdout",
     "output_type": "stream",
     "text": [
      "2.1.3\n"
     ]
    }
   ],
   "source": [
    "import datetime\n",
    "import os\n",
    "import shutil\n",
    "\n",
    "import numpy as np\n",
    "import pandas as pd\n",
    "import tensorflow as tf\n",
    "\n",
    "from matplotlib import pyplot as plt\n",
    "from tensorflow import keras\n",
    "\n",
    "from tensorflow.keras.models import Sequential\n",
    "from tensorflow.keras.layers import Dense, DenseFeatures\n",
    "from tensorflow.keras.callbacks import TensorBoard\n",
    "\n",
    "print(tf.__version__)\n",
    "%matplotlib inline"
   ]
  },
  {
   "cell_type": "markdown",
   "metadata": {},
   "source": [
    "## Load raw data \n",
    "\n",
    "We will use the taxifare dataset, using the CSV files that we created in the first notebook of this sequence. Those files have been saved into `../data`."
   ]
  },
  {
   "cell_type": "code",
   "execution_count": 3,
   "metadata": {},
   "outputs": [
    {
     "name": "stdout",
     "output_type": "stream",
     "text": [
      "-rw-r--r-- 1 jupyter jupyter 123590 May 24 03:53 ../data/taxi-test.csv\n",
      "-rw-r--r-- 1 jupyter jupyter 579055 May 24 03:53 ../data/taxi-train.csv\n",
      "-rw-r--r-- 1 jupyter jupyter 123114 May 24 03:53 ../data/taxi-valid.csv\n"
     ]
    }
   ],
   "source": [
    "!ls -l ../data/*.csv"
   ]
  },
  {
   "cell_type": "code",
   "execution_count": 4,
   "metadata": {},
   "outputs": [
    {
     "name": "stdout",
     "output_type": "stream",
     "text": [
      "==> ../data/taxi-test.csv <==\n",
      "6.0,2013-03-27 03:35:00 UTC,-73.977672,40.784052,-73.965332,40.801025,2,0\n",
      "19.3,2012-05-10 18:43:16 UTC,-73.954366,40.778924,-74.004094,40.723104,1,1\n",
      "7.5,2014-05-20 23:09:00 UTC,-73.999165,40.738377,-74.003473,40.723862,2,2\n",
      "12.5,2015-02-23 19:51:31 UTC,-73.9652099609375,40.76948165893555,-73.98949432373047,40.739742279052734,1,3\n",
      "10.9,2011-03-19 03:32:00 UTC,-73.99259,40.742957,-73.989908,40.711053,1,4\n",
      "7.0,2012-09-18 12:51:11 UTC,-73.971195,40.751566,-73.975922,40.756361,1,5\n",
      "19.0,2014-05-20 23:09:00 UTC,-73.998392,40.74517,-73.939845,40.74908,1,6\n",
      "8.9,2012-07-18 08:46:08 UTC,-73.997638,40.756541,-73.973303,40.762019,1,7\n",
      "4.5,2010-07-11 20:39:08 UTC,-73.976738,40.751321,-73.986671,40.74883,1,8\n",
      "7.0,2013-12-12 02:16:40 UTC,-73.985024,40.767537,-73.981273,40.779302,1,9\n",
      "\n",
      "==> ../data/taxi-train.csv <==\n",
      "11.3,2011-01-28 20:42:59 UTC,-73.999022,40.739146,-73.990369,40.717866,1,0\n",
      "7.7,2011-06-27 04:28:06 UTC,-73.987443,40.729221,-73.979013,40.758641,1,1\n",
      "10.5,2011-04-03 00:54:53 UTC,-73.982539,40.735725,-73.954797,40.778388,1,2\n",
      "16.2,2009-04-10 04:11:56 UTC,-74.001945,40.740505,-73.91385,40.758559,1,3\n",
      "33.5,2014-02-24 18:22:00 UTC,-73.993372,40.753382,-73.8609,40.732897,2,4\n",
      "6.9,2011-12-10 00:25:23 UTC,-73.996237,40.721848,-73.989416,40.718052,1,5\n",
      "6.1,2012-09-01 14:30:19 UTC,-73.977048,40.758461,-73.984899,40.744693,2,6\n",
      "9.5,2012-11-08 13:28:07 UTC,-73.969402,40.757545,-73.950049,40.776079,1,7\n",
      "9.0,2014-07-15 11:37:25 UTC,-73.979318,40.760949,-73.95767,40.773724,1,8\n",
      "3.3,2009-11-09 18:06:58 UTC,-73.955675,40.779154,-73.961172,40.772368,1,9\n",
      "\n",
      "==> ../data/taxi-valid.csv <==\n",
      "5.3,2012-01-03 19:21:35 UTC,-73.962627,40.763214,-73.973485,40.753353,1,0\n",
      "25.3,2010-09-27 07:30:15 UTC,-73.965799,40.794243,-73.927134,40.852261,3,1\n",
      "27.5,2015-05-19 00:40:02 UTC,-73.86344146728516,40.76899719238281,-73.96058654785156,40.76129913330078,1,2\n",
      "5.7,2010-04-29 12:28:00 UTC,-73.989255,40.738912,-73.97558,40.749172,1,3\n",
      "11.5,2013-06-23 06:08:09 UTC,-73.99731,40.763735,-73.955657,40.768141,1,4\n",
      "18.0,2014-10-14 18:52:03 UTC,-73.997995,40.761638,-74.008985,40.712442,1,5\n",
      "4.9,2010-04-29 12:28:00 UTC,-73.977315,40.766182,-73.970845,40.761462,5,6\n",
      "32.33,2014-02-24 18:22:00 UTC,-73.985358,40.761352,-73.92427,40.699145,1,7\n",
      "17.0,2015-03-26 02:48:58 UTC,-73.93981170654297,40.846473693847656,-73.97361755371094,40.786983489990234,1,8\n",
      "12.5,2013-04-09 09:39:13 UTC,-73.977323,40.753934,-74.00719,40.741472,1,9\n"
     ]
    }
   ],
   "source": [
    "!head ../data/taxi*.csv"
   ]
  },
  {
   "cell_type": "markdown",
   "metadata": {},
   "source": [
    "## Use tf.data to read the CSV files\n",
    "\n",
    "We wrote these functions for reading data from the csv files above in the [previous notebook](https://github.com/GoogleCloudPlatform/training-data-analyst/blob/master/courses/machine_learning/deepdive2/introduction_to_tensorflow/labs/2_dataset_api.ipynb)."
   ]
  },
  {
   "cell_type": "code",
   "execution_count": 5,
   "metadata": {},
   "outputs": [],
   "source": [
    "CSV_COLUMNS = [\n",
    "    'fare_amount',\n",
    "    'pickup_datetime',\n",
    "    'pickup_longitude',\n",
    "    'pickup_latitude',\n",
    "    'dropoff_longitude',\n",
    "    'dropoff_latitude',\n",
    "    'passenger_count',\n",
    "    'key'\n",
    "]\n",
    "LABEL_COLUMN = 'fare_amount'\n",
    "DEFAULTS = [[0.0], ['na'], [0.0], [0.0], [0.0], [0.0], [0.0], ['na']]\n",
    "UNWANTED_COLS = ['pickup_datetime', 'key']\n",
    "\n",
    "\n",
    "def features_and_labels(row_data):\n",
    "    label = row_data.pop(LABEL_COLUMN)\n",
    "    features = row_data\n",
    "    \n",
    "    for unwanted_col in UNWANTED_COLS:\n",
    "        features.pop(unwanted_col)\n",
    "\n",
    "    return features, label\n",
    "\n",
    "\n",
    "def create_dataset(pattern, batch_size=1, mode='eval'):\n",
    "    dataset = tf.data.experimental.make_csv_dataset(\n",
    "        pattern, batch_size, CSV_COLUMNS, DEFAULTS)\n",
    "\n",
    "    dataset = dataset.map(features_and_labels)\n",
    "\n",
    "    if mode == 'train':\n",
    "        dataset = dataset.shuffle(buffer_size=1000).repeat()\n",
    "\n",
    "    # take advantage of multi-threading; 1=AUTOTUNE\n",
    "    dataset = dataset.prefetch(1)\n",
    "    return dataset"
   ]
  },
  {
   "cell_type": "markdown",
   "metadata": {},
   "source": [
    "## Build a simple keras DNN model\n",
    "\n",
    "We will use feature columns to connect our raw data to our keras DNN model. Feature columns make it easy to perform common types of feature engineering on your raw data. For example, you can one-hot encode categorical data, create feature crosses, embeddings and more. We'll cover these in more detail later in the course, but if you want to a sneak peak browse the official TensorFlow [feature columns guide](https://www.tensorflow.org/guide/feature_columns).\n",
    "\n",
    "In our case we won't do any feature engineering. However, we still need to create a list of feature columns to specify the numeric values which will be passed on to our model. To do this, we use `tf.feature_column.numeric_column()`\n",
    "\n",
    "We use a python dictionary comprehension to create the feature columns for our model, which is just an elegant alternative to a for loop."
   ]
  },
  {
   "cell_type": "markdown",
   "metadata": {},
   "source": [
    "**Lab Task #1:** Create a feature column dictionary that we will use when building our deep neural network below. The keys should be the element of the `INPUT_COLS` list, while the values should be numeric feature columns."
   ]
  },
  {
   "cell_type": "code",
   "execution_count": 9,
   "metadata": {},
   "outputs": [],
   "source": [
    "INPUT_COLS = [\n",
    "    'pickup_longitude',\n",
    "    'pickup_latitude',\n",
    "    'dropoff_longitude',\n",
    "    'dropoff_latitude',\n",
    "    'passenger_count',\n",
    "]\n",
    "\n",
    "# Create input layer of feature columns\n",
    "# TODO 1\n",
    "feature_columns = {\n",
    "    colname: tf.feature_column.numeric_column(colname)\n",
    "    for colname in INPUT_COLS\n",
    "    }\n",
    "# TODO -- Your code here."
   ]
  },
  {
   "cell_type": "markdown",
   "metadata": {},
   "source": [
    "Next, we create the DNN model. The Sequential model is a linear stack of layers and when building a model using the Sequential API, you configure each layer of the model in turn. Once all the layers have been added, you compile the model. "
   ]
  },
  {
   "cell_type": "markdown",
   "metadata": {},
   "source": [
    "**Lab Task #2a:** Create a deep neural network using Keras's Sequential API. In the cell below, use the `tf.keras.layers` library to create all the layers for your deep neural network. "
   ]
  },
  {
   "cell_type": "code",
   "execution_count": 43,
   "metadata": {},
   "outputs": [],
   "source": [
    "# Build a keras DNN model using Sequential API\n",
    "# TODO 2a\n",
    "model =  Sequential([\n",
    "    DenseFeatures(feature_columns=feature_columns.values()),\n",
    "    #Dense(units=32, activation=\"relu\", name=\"hidden1\"),\n",
    "    #Dense(units=16, activation=\"relu\", name=\"hidden2\"),\n",
    "    Dense(units=8, activation=\"relu\", name=\"hidden1\"),\n",
    "    Dense(units=1, activation=\"linear\", name=\"output\")\n",
    "    ])\n",
    "# TODO -- Your code here."
   ]
  },
  {
   "cell_type": "markdown",
   "metadata": {},
   "source": [
    "Next, to prepare the model for training, you must configure the learning process. This is done using the compile method. The compile method takes three arguments:\n",
    "\n",
    "* An optimizer. This could be the string identifier of an existing optimizer (such as `rmsprop` or `adagrad`), or an instance of the [Optimizer class](https://www.tensorflow.org/versions/r2.0/api_docs/python/tf/keras/optimizers).\n",
    "* A loss function. This is the objective that the model will try to minimize. It can be the string identifier of an existing loss function from the [Losses class](https://www.tensorflow.org/versions/r2.0/api_docs/python/tf/keras/losses) (such as categorical_crossentropy or mse), or it can be a custom objective function.\n",
    "* A list of metrics. For any machine learning problem you will want a set of metrics to evaluate your model. A metric could be the string identifier of an existing metric or a custom metric function.\n",
    "\n",
    "We will add an additional custom metric called `rmse` to our list of metrics which will return the root mean square error. "
   ]
  },
  {
   "cell_type": "markdown",
   "metadata": {},
   "source": [
    "**Lab Task #2b:** Compile the model you created above. Create a custom loss function called `rmse` which computes the root mean squared error between `y_true` and `y_pred`. Pass this function to the model as an evaluation metric. "
   ]
  },
  {
   "cell_type": "code",
   "execution_count": 44,
   "metadata": {},
   "outputs": [],
   "source": [
    "# TODO 2b\n",
    "# Create a custom evalution metric\n",
    "def rmse(y_true, y_pred):\n",
    "    return tf.sqrt(tf.reduce_mean(tf.square(y_pred - y_true))) # TODO -- Your code here.\n",
    "\n",
    "# Compile the keras model\n",
    "model.compile(optimizer=\"adam\", loss=\"mse\", metrics=[rmse, \"mse\"])\n",
    "# TODO -- Your code here."
   ]
  },
  {
   "cell_type": "markdown",
   "metadata": {},
   "source": [
    "## Train the model\n",
    "\n",
    "To train your model, Keras provides three functions that can be used:\n",
    " 1. `.fit()` for training a model for a fixed number of epochs (iterations on a dataset).\n",
    " 2. `.fit_generator()` for training a model on data yielded batch-by-batch by a generator\n",
    " 3. `.train_on_batch()` runs a single gradient update on a single batch of data. \n",
    " \n",
    "The `.fit()` function works well for small datasets which can fit entirely in memory. However, for large datasets (or if you need to manipulate the training data on the fly via data augmentation, etc) you will need to use `.fit_generator()` instead. The `.train_on_batch()` method is for more fine-grained control over training and accepts only a single batch of data.\n",
    "\n",
    "The taxifare dataset we sampled is small enough to fit in memory, so can we could use `.fit` to train our model. Our `create_dataset` function above generates batches of training examples, so we could also use `.fit_generator`. In fact, when calling `.fit` the method inspects the data, and if it's a generator (as our dataset is) it will invoke automatically `.fit_generator` for training. \n",
    "\n",
    "We start by setting up some parameters for our training job and create the data generators for the training and validation data.\n",
    "\n",
    "We refer you the the blog post [ML Design Pattern #3: Virtual Epochs](https://medium.com/google-cloud/ml-design-pattern-3-virtual-epochs-f842296de730) for further details on why express the training in terms of `NUM_TRAIN_EXAMPLES` and `NUM_EVALS` and why, in this training code, the number of epochs is really equal to the number of evaluations we perform."
   ]
  },
  {
   "cell_type": "code",
   "execution_count": 77,
   "metadata": {},
   "outputs": [],
   "source": [
    "TRAIN_BATCH_SIZE = 800\n",
    "NUM_TRAIN_EXAMPLES = 10000 * 5  # training dataset will repeat, wrap around\n",
    "NUM_EVALS = 60  # how many times to evaluate\n",
    "NUM_EVAL_EXAMPLES = 10000  # enough to get a reasonable sample\n",
    "\n",
    "trainds = create_dataset(\n",
    "    pattern='../data/taxi-train*',\n",
    "    batch_size=TRAIN_BATCH_SIZE,\n",
    "    mode='train')\n",
    "\n",
    "evalds = create_dataset(\n",
    "    pattern='../data/taxi-valid*',\n",
    "    batch_size=1000,\n",
    "    mode='eval').take(NUM_EVAL_EXAMPLES//1000)"
   ]
  },
  {
   "cell_type": "markdown",
   "metadata": {},
   "source": [
    "There are various arguments you can set when calling the [.fit method](https://www.tensorflow.org/versions/r2.0/api_docs/python/tf/keras/Model#fit). Here `x` specifies the input data which in our case is a `tf.data` dataset returning a tuple of (inputs, targets). The `steps_per_epoch` parameter is used to mark the end of training for a single epoch. Here we are training for NUM_EVALS epochs. Lastly, for the `callback` argument we specify a Tensorboard callback so we can inspect Tensorboard after training. "
   ]
  },
  {
   "cell_type": "markdown",
   "metadata": {},
   "source": [
    "**Lab Task #3:** In the cell below, you will train your model. First, define the `steps_per_epoch` then train your model using `.fit()`, saving the model training output to a variable called `history`."
   ]
  },
  {
   "cell_type": "code",
   "execution_count": 78,
   "metadata": {},
   "outputs": [
    {
     "name": "stdout",
     "output_type": "stream",
     "text": [
      "CPU times: user 2 µs, sys: 2 µs, total: 4 µs\n",
      "Wall time: 8.58 µs\n",
      "Train for 1 steps, validate for 10 steps\n",
      "Epoch 1/60\n",
      "1/1 [==============================] - 12s 12s/step - loss: 72.7079 - rmse: 8.5269 - mse: 72.7079 - val_loss: 109.8696 - val_rmse: 10.4553 - val_mse: 109.8696\n",
      "Epoch 2/60\n",
      "WARNING:tensorflow:Method (on_train_batch_end) is slow compared to the batch update (0.353860). Check your callbacks.\n",
      "1/1 [==============================] - 1s 836ms/step - loss: 113.4267 - rmse: 10.6502 - mse: 113.4267 - val_loss: 111.7052 - val_rmse: 10.5394 - val_mse: 111.7052\n",
      "Epoch 3/60\n",
      "1/1 [==============================] - 1s 515ms/step - loss: 76.4475 - rmse: 8.7434 - mse: 76.4475 - val_loss: 111.5370 - val_rmse: 10.5373 - val_mse: 111.5370\n",
      "Epoch 4/60\n",
      "1/1 [==============================] - 0s 448ms/step - loss: 79.2122 - rmse: 8.9001 - mse: 79.2122 - val_loss: 109.0441 - val_rmse: 10.4290 - val_mse: 109.0441\n",
      "Epoch 5/60\n",
      "1/1 [==============================] - 0s 476ms/step - loss: 97.7507 - rmse: 9.8869 - mse: 97.7507 - val_loss: 111.4013 - val_rmse: 10.5228 - val_mse: 111.4013\n",
      "Epoch 6/60\n",
      "1/1 [==============================] - 0s 479ms/step - loss: 90.2354 - rmse: 9.4992 - mse: 90.2354 - val_loss: 109.9185 - val_rmse: 10.4637 - val_mse: 109.9185\n",
      "Epoch 7/60\n",
      "1/1 [==============================] - 0s 438ms/step - loss: 81.5872 - rmse: 9.0326 - mse: 81.5872 - val_loss: 111.8267 - val_rmse: 10.5590 - val_mse: 111.8267\n",
      "Epoch 8/60\n",
      "1/1 [==============================] - 1s 507ms/step - loss: 93.8214 - rmse: 9.6861 - mse: 93.8214 - val_loss: 111.2692 - val_rmse: 10.5398 - val_mse: 111.2692\n",
      "Epoch 9/60\n",
      "1/1 [==============================] - 0s 426ms/step - loss: 85.4927 - rmse: 9.2462 - mse: 85.4927 - val_loss: 109.6495 - val_rmse: 10.4558 - val_mse: 109.6495\n",
      "Epoch 10/60\n",
      "1/1 [==============================] - 0s 355ms/step - loss: 82.7830 - rmse: 9.0985 - mse: 82.7830 - val_loss: 109.9623 - val_rmse: 10.4765 - val_mse: 109.9623\n",
      "Epoch 11/60\n",
      "1/1 [==============================] - 1s 508ms/step - loss: 83.7290 - rmse: 9.1504 - mse: 83.7290 - val_loss: 109.0568 - val_rmse: 10.4011 - val_mse: 109.0568\n",
      "Epoch 12/60\n",
      "1/1 [==============================] - 0s 420ms/step - loss: 105.6745 - rmse: 10.2798 - mse: 105.6745 - val_loss: 111.8682 - val_rmse: 10.5718 - val_mse: 111.8682\n",
      "Epoch 13/60\n",
      "1/1 [==============================] - 0s 460ms/step - loss: 85.1474 - rmse: 9.2275 - mse: 85.1474 - val_loss: 108.4007 - val_rmse: 10.3756 - val_mse: 108.4007\n",
      "Epoch 14/60\n",
      "1/1 [==============================] - 1s 534ms/step - loss: 85.8787 - rmse: 9.2671 - mse: 85.8787 - val_loss: 110.2677 - val_rmse: 10.4926 - val_mse: 110.2677\n",
      "Epoch 15/60\n",
      "1/1 [==============================] - 0s 464ms/step - loss: 93.5055 - rmse: 9.6698 - mse: 93.5055 - val_loss: 110.7803 - val_rmse: 10.5112 - val_mse: 110.7802\n",
      "Epoch 16/60\n",
      "1/1 [==============================] - 0s 448ms/step - loss: 77.1036 - rmse: 8.7809 - mse: 77.1036 - val_loss: 111.2977 - val_rmse: 10.5407 - val_mse: 111.2977\n",
      "Epoch 17/60\n",
      "1/1 [==============================] - 1s 557ms/step - loss: 101.1280 - rmse: 10.0562 - mse: 101.1280 - val_loss: 110.4340 - val_rmse: 10.5010 - val_mse: 110.4340\n",
      "Epoch 18/60\n",
      "1/1 [==============================] - 1s 518ms/step - loss: 91.1170 - rmse: 9.5455 - mse: 91.1170 - val_loss: 110.1306 - val_rmse: 10.4713 - val_mse: 110.1306\n",
      "Epoch 19/60\n",
      "1/1 [==============================] - 0s 448ms/step - loss: 83.7017 - rmse: 9.1489 - mse: 83.7017 - val_loss: 110.5346 - val_rmse: 10.4979 - val_mse: 110.5346\n",
      "Epoch 20/60\n",
      "1/1 [==============================] - 0s 458ms/step - loss: 92.8612 - rmse: 9.6365 - mse: 92.8612 - val_loss: 109.3929 - val_rmse: 10.4356 - val_mse: 109.3929\n",
      "Epoch 21/60\n",
      "1/1 [==============================] - 0s 483ms/step - loss: 136.5072 - rmse: 11.6836 - mse: 136.5072 - val_loss: 110.8259 - val_rmse: 10.5139 - val_mse: 110.8259\n",
      "Epoch 22/60\n",
      "1/1 [==============================] - 0s 359ms/step - loss: 114.1202 - rmse: 10.6827 - mse: 114.1202 - val_loss: 110.8068 - val_rmse: 10.5144 - val_mse: 110.8068\n",
      "Epoch 23/60\n",
      "1/1 [==============================] - 0s 419ms/step - loss: 110.3477 - rmse: 10.5047 - mse: 110.3477 - val_loss: 109.2114 - val_rmse: 10.4342 - val_mse: 109.2114\n",
      "Epoch 24/60\n",
      "1/1 [==============================] - 1s 608ms/step - loss: 94.8196 - rmse: 9.7375 - mse: 94.8196 - val_loss: 110.1125 - val_rmse: 10.4765 - val_mse: 110.1125\n",
      "Epoch 25/60\n",
      "1/1 [==============================] - 0s 434ms/step - loss: 80.9525 - rmse: 8.9974 - mse: 80.9525 - val_loss: 110.7723 - val_rmse: 10.5168 - val_mse: 110.7723\n",
      "Epoch 26/60\n",
      "1/1 [==============================] - 0s 404ms/step - loss: 72.0110 - rmse: 8.4859 - mse: 72.0110 - val_loss: 112.7835 - val_rmse: 10.5996 - val_mse: 112.7835\n",
      "Epoch 27/60\n",
      "1/1 [==============================] - 0s 389ms/step - loss: 110.6533 - rmse: 10.5192 - mse: 110.6533 - val_loss: 111.2040 - val_rmse: 10.5304 - val_mse: 111.2040\n",
      "Epoch 28/60\n",
      "1/1 [==============================] - 0s 431ms/step - loss: 75.5644 - rmse: 8.6928 - mse: 75.5644 - val_loss: 110.3282 - val_rmse: 10.4698 - val_mse: 110.3282\n",
      "Epoch 29/60\n",
      "1/1 [==============================] - 0s 338ms/step - loss: 106.6479 - rmse: 10.3270 - mse: 106.6479 - val_loss: 109.4314 - val_rmse: 10.4391 - val_mse: 109.4314\n",
      "Epoch 30/60\n",
      "1/1 [==============================] - 0s 461ms/step - loss: 141.9074 - rmse: 11.9125 - mse: 141.9074 - val_loss: 110.8148 - val_rmse: 10.5180 - val_mse: 110.8148\n",
      "Epoch 31/60\n",
      "1/1 [==============================] - 0s 426ms/step - loss: 74.0340 - rmse: 8.6043 - mse: 74.0340 - val_loss: 111.2694 - val_rmse: 10.5323 - val_mse: 111.2694\n",
      "Epoch 32/60\n",
      "1/1 [==============================] - 0s 439ms/step - loss: 92.8560 - rmse: 9.6362 - mse: 92.8560 - val_loss: 110.8614 - val_rmse: 10.4993 - val_mse: 110.8614\n",
      "Epoch 33/60\n",
      "1/1 [==============================] - 1s 508ms/step - loss: 91.7288 - rmse: 9.5775 - mse: 91.7288 - val_loss: 109.2049 - val_rmse: 10.4421 - val_mse: 109.2049\n",
      "Epoch 34/60\n",
      "1/1 [==============================] - 0s 414ms/step - loss: 77.6775 - rmse: 8.8135 - mse: 77.6775 - val_loss: 108.6632 - val_rmse: 10.4161 - val_mse: 108.6632\n",
      "Epoch 35/60\n",
      "1/1 [==============================] - 0s 456ms/step - loss: 91.0246 - rmse: 9.5407 - mse: 91.0246 - val_loss: 110.0908 - val_rmse: 10.4881 - val_mse: 110.0908\n",
      "Epoch 36/60\n",
      "1/1 [==============================] - 0s 447ms/step - loss: 93.2197 - rmse: 9.6550 - mse: 93.2197 - val_loss: 109.5420 - val_rmse: 10.4363 - val_mse: 109.5420\n",
      "Epoch 37/60\n",
      "1/1 [==============================] - 0s 460ms/step - loss: 82.5784 - rmse: 9.0873 - mse: 82.5784 - val_loss: 110.2425 - val_rmse: 10.4963 - val_mse: 110.2426\n",
      "Epoch 38/60\n",
      "1/1 [==============================] - 0s 499ms/step - loss: 87.4785 - rmse: 9.3530 - mse: 87.4785 - val_loss: 109.4382 - val_rmse: 10.4560 - val_mse: 109.4382\n",
      "Epoch 39/60\n",
      "1/1 [==============================] - 1s 607ms/step - loss: 109.7272 - rmse: 10.4751 - mse: 109.7272 - val_loss: 111.2576 - val_rmse: 10.5276 - val_mse: 111.2576\n",
      "Epoch 40/60\n",
      "1/1 [==============================] - 0s 477ms/step - loss: 88.8749 - rmse: 9.4274 - mse: 88.8749 - val_loss: 109.7678 - val_rmse: 10.4703 - val_mse: 109.7678\n",
      "Epoch 41/60\n",
      "1/1 [==============================] - 0s 475ms/step - loss: 77.8094 - rmse: 8.8210 - mse: 77.8094 - val_loss: 109.1684 - val_rmse: 10.4426 - val_mse: 109.1684\n",
      "Epoch 42/60\n",
      "1/1 [==============================] - 0s 395ms/step - loss: 97.4278 - rmse: 9.8706 - mse: 97.4278 - val_loss: 109.6584 - val_rmse: 10.4478 - val_mse: 109.6584\n",
      "Epoch 43/60\n",
      "1/1 [==============================] - 0s 353ms/step - loss: 90.3751 - rmse: 9.5066 - mse: 90.3751 - val_loss: 109.5580 - val_rmse: 10.4501 - val_mse: 109.5580\n",
      "Epoch 44/60\n",
      "1/1 [==============================] - 0s 403ms/step - loss: 93.2113 - rmse: 9.6546 - mse: 93.2113 - val_loss: 111.4896 - val_rmse: 10.5338 - val_mse: 111.4896\n",
      "Epoch 45/60\n",
      "1/1 [==============================] - 1s 548ms/step - loss: 81.6175 - rmse: 9.0342 - mse: 81.6175 - val_loss: 111.5781 - val_rmse: 10.5380 - val_mse: 111.5781\n",
      "Epoch 46/60\n",
      "1/1 [==============================] - 0s 394ms/step - loss: 91.0517 - rmse: 9.5421 - mse: 91.0517 - val_loss: 108.8678 - val_rmse: 10.4128 - val_mse: 108.8678\n",
      "Epoch 47/60\n",
      "1/1 [==============================] - 1s 512ms/step - loss: 69.5676 - rmse: 8.3407 - mse: 69.5676 - val_loss: 110.7825 - val_rmse: 10.5039 - val_mse: 110.7825\n",
      "Epoch 48/60\n",
      "1/1 [==============================] - 0s 467ms/step - loss: 100.4629 - rmse: 10.0231 - mse: 100.4629 - val_loss: 109.4616 - val_rmse: 10.4508 - val_mse: 109.4615\n",
      "Epoch 49/60\n",
      "1/1 [==============================] - 0s 396ms/step - loss: 89.8379 - rmse: 9.4783 - mse: 89.8379 - val_loss: 111.8513 - val_rmse: 10.5638 - val_mse: 111.8513\n",
      "Epoch 50/60\n",
      "1/1 [==============================] - 0s 418ms/step - loss: 97.6003 - rmse: 9.8793 - mse: 97.6003 - val_loss: 109.3145 - val_rmse: 10.4401 - val_mse: 109.3145\n",
      "Epoch 51/60\n",
      "1/1 [==============================] - 0s 486ms/step - loss: 104.2634 - rmse: 10.2109 - mse: 104.2634 - val_loss: 108.6600 - val_rmse: 10.4079 - val_mse: 108.6600\n",
      "Epoch 52/60\n",
      "1/1 [==============================] - 0s 402ms/step - loss: 71.6086 - rmse: 8.4622 - mse: 71.6086 - val_loss: 110.6522 - val_rmse: 10.5116 - val_mse: 110.6522\n",
      "Epoch 53/60\n",
      "1/1 [==============================] - 0s 329ms/step - loss: 115.6488 - rmse: 10.7540 - mse: 115.6488 - val_loss: 110.4262 - val_rmse: 10.4891 - val_mse: 110.4261\n",
      "Epoch 54/60\n",
      "1/1 [==============================] - 0s 334ms/step - loss: 96.7452 - rmse: 9.8359 - mse: 96.7452 - val_loss: 109.5285 - val_rmse: 10.4445 - val_mse: 109.5285\n",
      "Epoch 55/60\n",
      "1/1 [==============================] - 0s 399ms/step - loss: 123.0324 - rmse: 11.0920 - mse: 123.0324 - val_loss: 108.5708 - val_rmse: 10.3929 - val_mse: 108.5708\n",
      "Epoch 56/60\n",
      "1/1 [==============================] - 1s 523ms/step - loss: 84.4843 - rmse: 9.1915 - mse: 84.4843 - val_loss: 108.5159 - val_rmse: 10.3862 - val_mse: 108.5159\n",
      "Epoch 57/60\n",
      "1/1 [==============================] - 0s 463ms/step - loss: 107.2391 - rmse: 10.3556 - mse: 107.2391 - val_loss: 110.3510 - val_rmse: 10.4907 - val_mse: 110.3510\n",
      "Epoch 58/60\n",
      "1/1 [==============================] - 0s 450ms/step - loss: 82.0369 - rmse: 9.0574 - mse: 82.0369 - val_loss: 112.4882 - val_rmse: 10.5968 - val_mse: 112.4883\n",
      "Epoch 59/60\n",
      "1/1 [==============================] - 0s 398ms/step - loss: 87.4198 - rmse: 9.3499 - mse: 87.4198 - val_loss: 111.9140 - val_rmse: 10.5632 - val_mse: 111.9140\n",
      "Epoch 60/60\n",
      "1/1 [==============================] - 0s 422ms/step - loss: 90.6234 - rmse: 9.5196 - mse: 90.6234 - val_loss: 110.2820 - val_rmse: 10.4847 - val_mse: 110.2820\n"
     ]
    }
   ],
   "source": [
    "# TODO 3\n",
    "%time \n",
    "steps_per_epoch = NUM_TRAIN_EXAMPLES // (TRAIN_BATCH_SIZE * NUM_EVALS)  # TODO -- Your code here. \n",
    "\n",
    "LOGDIR = \"./taxi_trained\"\n",
    "# Train the sequential model\n",
    "history = model.fit(x=trainds,\n",
    "                    steps_per_epoch=steps_per_epoch,\n",
    "                    epochs=NUM_EVALS,\n",
    "                    validation_data=evalds,\n",
    "                    callbacks=[TensorBoard(LOGDIR)])\n",
    "# TODO -- Your code here. "
   ]
  },
  {
   "cell_type": "markdown",
   "metadata": {},
   "source": [
    "### High-level model evaluation\n",
    "\n",
    "Once we've run data through the model, we can call `.summary()` on the model to get a high-level summary of our network. We can also plot the training and evaluation curves for the metrics we computed above. "
   ]
  },
  {
   "cell_type": "code",
   "execution_count": 79,
   "metadata": {},
   "outputs": [
    {
     "name": "stdout",
     "output_type": "stream",
     "text": [
      "Model: \"sequential_3\"\n",
      "_________________________________________________________________\n",
      "Layer (type)                 Output Shape              Param #   \n",
      "=================================================================\n",
      "dense_features_3 (DenseFeatu multiple                  0         \n",
      "_________________________________________________________________\n",
      "hidden1 (Dense)              multiple                  48        \n",
      "_________________________________________________________________\n",
      "output (Dense)               multiple                  9         \n",
      "=================================================================\n",
      "Total params: 57\n",
      "Trainable params: 57\n",
      "Non-trainable params: 0\n",
      "_________________________________________________________________\n"
     ]
    }
   ],
   "source": [
    "model.summary()"
   ]
  },
  {
   "cell_type": "markdown",
   "metadata": {},
   "source": [
    "Running `.fit` (or `.fit_generator`) returns a History object which collects all the events recorded during training. Similar to Tensorboard, we can plot the training and validation curves for the model loss and rmse by accessing these elements of the History object."
   ]
  },
  {
   "cell_type": "code",
   "execution_count": null,
   "metadata": {},
   "outputs": [],
   "source": [
    "RMSE_COLS = ['rmse', 'val_rmse']\n",
    "\n",
    "pd.DataFrame(history.history)[RMSE_COLS].plot()"
   ]
  },
  {
   "cell_type": "code",
   "execution_count": 54,
   "metadata": {},
   "outputs": [
    {
     "data": {
      "text/plain": [
       "<AxesSubplot:>"
      ]
     },
     "execution_count": 54,
     "metadata": {},
     "output_type": "execute_result"
    },
    {
     "data": {
      "image/png": "[encoded data removed]",
      "text/plain": [
       "<Figure size 432x288 with 1 Axes>"
      ]
     },
     "metadata": {
      "needs_background": "light"
     },
     "output_type": "display_data"
    }
   ],
   "source": [
    "LOSS_COLS = ['loss', 'val_loss']\n",
    "\n",
    "pd.DataFrame(history.history)[LOSS_COLS].plot()"
   ]
  },
  {
   "cell_type": "markdown",
   "metadata": {},
   "source": [
    "# Making predictions with our model\n",
    "\n",
    "To make predictions with our trained model, we can call the [predict method](https://www.tensorflow.org/api_docs/python/tf/keras/Model#predict), passing to it a dictionary of values. The `steps` parameter determines the total number of steps before declaring the prediction round finished. Here since we have just one example, we set `steps=1` (setting `steps=None` would also work). Note, however, that if x is a `tf.data` dataset or a dataset iterator, and steps is set to None, predict will run until the input dataset is exhausted."
   ]
  },
  {
   "cell_type": "code",
   "execution_count": 22,
   "metadata": {},
   "outputs": [
    {
     "data": {
      "text/plain": [
       "array([[10.974613]], dtype=float32)"
      ]
     },
     "execution_count": 22,
     "metadata": {},
     "output_type": "execute_result"
    }
   ],
   "source": [
    "model.predict(x={\"pickup_longitude\": tf.convert_to_tensor([-73.982683]),\n",
    "                 \"pickup_latitude\": tf.convert_to_tensor([40.742104]),\n",
    "                 \"dropoff_longitude\": tf.convert_to_tensor([-73.983766]),\n",
    "                 \"dropoff_latitude\": tf.convert_to_tensor([40.755174]),\n",
    "                 \"passenger_count\": tf.convert_to_tensor([3.0])},\n",
    "              steps=1)"
   ]
  },
  {
   "cell_type": "markdown",
   "metadata": {},
   "source": [
    "# Export and deploy our model\n",
    "\n",
    "Of course, making individual predictions is not realistic, because we can't expect client code to have a model object in memory. For others to use our trained model, we'll have to export our model to a file, and expect client code to instantiate the model from that exported file. \n",
    "\n",
    "We'll export the model to a TensorFlow SavedModel format. Once we have a model in this format, we have lots of ways to \"serve\" the model, from a web application, from JavaScript, from mobile applications, etc."
   ]
  },
  {
   "cell_type": "markdown",
   "metadata": {},
   "source": [
    "**Lab Task #4:** Use `tf.saved_model.save` to export the trained model to a Tensorflow SavedModel format. Reference the [documentation for `tf.saved_model.save`](https://www.tensorflow.org/api_docs/python/tf/saved_model/save) as you fill in the code for the cell below.\n",
    "\n",
    "Next, print the signature of your saved model using the SavedModel Command Line Interface command `saved_model_cli`. You can read more about the command line interface and the `show` and `run` commands it supports in the [documentation here](https://www.tensorflow.org/guide/saved_model#overview_of_commands). "
   ]
  },
  {
   "cell_type": "code",
   "execution_count": 23,
   "metadata": {},
   "outputs": [
    {
     "name": "stdout",
     "output_type": "stream",
     "text": [
      "WARNING:tensorflow:From /opt/conda/lib/python3.7/site-packages/tensorflow_core/python/ops/resource_variable_ops.py:1786: calling BaseResourceVariable.__init__ (from tensorflow.python.ops.resource_variable_ops) with constraint is deprecated and will be removed in a future version.\n",
      "Instructions for updating:\n",
      "If using Keras pass *_constraint arguments to layers.\n",
      "INFO:tensorflow:Assets written to: ./export/savedmodel/20210526045722/assets\n"
     ]
    }
   ],
   "source": [
    "# TODO 4a\n",
    "OUTPUT_DIR = \"./export/savedmodel\"\n",
    "shutil.rmtree(OUTPUT_DIR, ignore_errors=True)\n",
    "EXPORT_PATH = os.path.join(OUTPUT_DIR,\n",
    "                           datetime.datetime.now().strftime(\"%Y%m%d%H%M%S\"))\n",
    "\n",
    "tf.saved_model.save(model, EXPORT_PATH)# TODO -- Your code here. "
   ]
  },
  {
   "cell_type": "code",
   "execution_count": 27,
   "metadata": {},
   "outputs": [
    {
     "name": "stdout",
     "output_type": "stream",
     "text": [
      "The given SavedModel SignatureDef contains the following input(s):\n",
      "  inputs['dropoff_latitude'] tensor_info:\n",
      "      dtype: DT_FLOAT\n",
      "      shape: (-1, 1)\n",
      "      name: serving_default_dropoff_latitude:0\n",
      "  inputs['dropoff_longitude'] tensor_info:\n",
      "      dtype: DT_FLOAT\n",
      "      shape: (-1, 1)\n",
      "      name: serving_default_dropoff_longitude:0\n",
      "  inputs['passenger_count'] tensor_info:\n",
      "      dtype: DT_FLOAT\n",
      "      shape: (-1, 1)\n",
      "      name: serving_default_passenger_count:0\n",
      "  inputs['pickup_latitude'] tensor_info:\n",
      "      dtype: DT_FLOAT\n",
      "      shape: (-1, 1)\n",
      "      name: serving_default_pickup_latitude:0\n",
      "  inputs['pickup_longitude'] tensor_info:\n",
      "      dtype: DT_FLOAT\n",
      "      shape: (-1, 1)\n",
      "      name: serving_default_pickup_longitude:0\n",
      "The given SavedModel SignatureDef contains the following output(s):\n",
      "  outputs['output_1'] tensor_info:\n",
      "      dtype: DT_FLOAT\n",
      "      shape: (-1, 1)\n",
      "      name: StatefulPartitionedCall:0\n",
      "Method name is: tensorflow/serving/predict\n",
      "./export/savedmodel/20210526045722\n",
      "./export/savedmodel/20210526045722/assets\n",
      "./export/savedmodel/20210526045722/saved_model.pb\n",
      "./export/savedmodel/20210526045722/variables\n",
      "./export/savedmodel/20210526045722/variables/variables.data-00000-of-00001\n",
      "./export/savedmodel/20210526045722/variables/variables.index\n"
     ]
    }
   ],
   "source": [
    "# TODO 4b\n",
    "!saved_model_cli show --tag_set serve --signature_def serving_default --dir {EXPORT_PATH}\n",
    "\n",
    "!find {EXPORT_PATH}\n",
    "os.environ['EXPORT_PATH'] = EXPORT_PATH"
   ]
  },
  {
   "cell_type": "markdown",
   "metadata": {},
   "source": [
    "### Deploy our model to AI Platform\n",
    "\n",
    "Finally, we will deploy our trained model to AI Platform and see how we can make online predicitons. "
   ]
  },
  {
   "cell_type": "markdown",
   "metadata": {},
   "source": [
    "**Lab Task #5a:** Complete the code in the cell below to deploy your trained model to AI Platform using the `gcloud ai-platform versions create` command. Have a look at [the documentation for how to create model version with gcloud](https://cloud.google.com/sdk/gcloud/reference/ai-platform/versions/create)."
   ]
  },
  {
   "cell_type": "code",
   "execution_count": 28,
   "metadata": {},
   "outputs": [
    {
     "name": "stderr",
     "output_type": "stream",
     "text": [
      "Updated property [compute/region].\n",
      "Updated property [ai_platform/region].\n"
     ]
    }
   ],
   "source": [
    "%%bash\n",
    "gcloud config set compute/region us-east1\n",
    "gcloud config set ai_platform/region global\n"
   ]
  },
  {
   "cell_type": "markdown",
   "metadata": {},
   "source": [
    "**Below cell will take around 10 minutes to complete.**"
   ]
  },
  {
   "cell_type": "code",
   "execution_count": 32,
   "metadata": {},
   "outputs": [
    {
     "name": "stdout",
     "output_type": "stream",
     "text": [
      "Bucket exists, let's not recreate it.\n",
      "taxifare already exists\n",
      "Creating taxifare:dnn\n"
     ]
    },
    {
     "name": "stderr",
     "output_type": "stream",
     "text": [
      "Using endpoint [https://us-east1-ml.googleapis.com/]\n",
      "Using endpoint [https://us-east1-ml.googleapis.com/]\n",
      "Using endpoint [https://us-east1-ml.googleapis.com/]\n",
      "Creating version (this might take a few minutes)......\n",
      "....................................................................................................................................................................................................................................................................................................................................................................................................................................................................................................................................................................................................................................................................................................................................................................................................................................................................................................................................................................................................................................................................................................................................................................................................................................................................................................................................................................................................................................................................................................................................................................................................................................................................................................................................................................................................................................................................................................................................................................................................................................................................................................................................................................................................................................................................................................................................................................................................................................................................................................................................................................................................................................................................................................................................................................................................................................................................................................................done.\n"
     ]
    }
   ],
   "source": [
    "%%bash\n",
    "# TODO 5a\n",
    "PROJECT='qwiklabs-gcp-04-569268d5f324' \n",
    "BUCKET=${PROJECT}\n",
    "REGION=us-east1\n",
    "MODEL_NAME=taxifare\n",
    "VERSION_NAME=dnn\n",
    "\n",
    "## Create GCS bucket if it doesn't exist already...\n",
    "exists=$(gsutil ls -d | grep -w gs://${BUCKET}/)\n",
    "\n",
    "if [ -n \"$exists\" ]; then\n",
    "    echo -e \"Bucket exists, let's not recreate it.\"\n",
    "else\n",
    "    echo \"Creating a new GCS bucket.\"\n",
    "    gsutil mb -l ${REGION} gs://${BUCKET}\n",
    "    echo \"Here are your current buckets:\"\n",
    "    gsutil ls\n",
    "fi\n",
    "\n",
    "if [[ $(gcloud ai-platform models list --format='value(name)' --region=$REGION | grep $MODEL_NAME) ]]; then\n",
    "    echo \"$MODEL_NAME already exists\"\n",
    "else\n",
    "    echo \"Creating $MODEL_NAME\"\n",
    "    gcloud ai-platform models create --region=$REGION $MODEL_NAME\n",
    "fi\n",
    "\n",
    "if [[ $(gcloud ai-platform versions list --model $MODEL_NAME --region=$REGION --format='value(name)' | grep $VERSION_NAME) ]]; then\n",
    "    echo \"Deleting already existing $MODEL_NAME:$VERSION_NAME ... \"\n",
    "    echo yes | gcloud ai-platform versions delete --model=$MODEL_NAME $VERSION_NAME --region=$REGION\n",
    "    echo \"Please run this cell again if you don't see a Creating message ... \"\n",
    "    sleep 2\n",
    "fi\n",
    "\n",
    "echo \"Creating $MODEL_NAME:$VERSION_NAME\"\n",
    "gcloud ai-platform versions create --model=$MODEL_NAME  $VERSION_NAME --framework=tensorflow --python-version=3.7 --runtime-version=2.1 --origin=$EXPORT_PATH --staging-bucket=gs://$BUCKET --region=$REGION "
   ]
  },
  {
   "cell_type": "code",
   "execution_count": 33,
   "metadata": {},
   "outputs": [
    {
     "name": "stdout",
     "output_type": "stream",
     "text": [
      "Writing input.json\n"
     ]
    }
   ],
   "source": [
    "%%writefile input.json\n",
    "{\"pickup_longitude\": -73.982683, \"pickup_latitude\": 40.742104,\"dropoff_longitude\": -73.983766,\"dropoff_latitude\": 40.755174,\"passenger_count\": 3.0}  "
   ]
  },
  {
   "cell_type": "markdown",
   "metadata": {},
   "source": [
    "**Lab Task #5b:** Complete the code in the cell below to call prediction on your deployed model for the example you just created in the `input.json` file above."
   ]
  },
  {
   "cell_type": "code",
   "execution_count": 34,
   "metadata": {},
   "outputs": [
    {
     "name": "stdout",
     "output_type": "stream",
     "text": [
      "Using endpoint [https://us-east1-ml.googleapis.com/]\n",
      "[[10.9746161]]\n"
     ]
    }
   ],
   "source": [
    "# TODO 5b\n",
    "!gcloud ai-platform predict --model taxifare --json-instances input.json --version dnn --region us-east1"
   ]
  },
  {
   "cell_type": "markdown",
   "metadata": {},
   "source": [
    "Copyright 2019 Google Inc. Licensed under the Apache License, Version 2.0 (the \"License\"); you may not use this file except in compliance with the License. You may obtain a copy of the License at http://www.apache.org/licenses/LICENSE-2.0 Unless required by applicable law or agreed to in writing, software distributed under the License is distributed on an \"AS IS\" BASIS, WITHOUT WARRANTIES OR CONDITIONS OF ANY KIND, either express or implied. See the License for the specific language governing permissions and limitations under the License"
   ]
  }
 ],
 "metadata": {
  "environment": {
   "name": "tf2-gpu.2-1.m69",
   "type": "gcloud",
   "uri": "gcr.io/deeplearning-platform-release/tf2-gpu.2-1:m69"
  },
  "kernelspec": {
   "display_name": "Python 3",
   "language": "python",
   "name": "python3"
  },
  "language_info": {
   "codemirror_mode": {
    "name": "ipython",
    "version": 3
   },
   "file_extension": ".py",
   "mimetype": "text/x-python",
   "name": "python",
   "nbconvert_exporter": "python",
   "pygments_lexer": "ipython3",
   "version": "3.7.10"
  }
 },
 "nbformat": 4,
 "nbformat_minor": 4
}
